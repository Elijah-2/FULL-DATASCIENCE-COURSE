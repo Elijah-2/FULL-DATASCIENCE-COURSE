{
 "cells": [
  {
   "cell_type": "markdown",
   "id": "dbd59550-0e4d-4c76-971a-c448a56baa20",
   "metadata": {},
   "source": [
    "# 1. Importing Pandas"
   ]
  },
  {
   "cell_type": "code",
   "execution_count": null,
   "id": "c4abe7bc-eb94-4c11-b4ea-99add4bc56ff",
   "metadata": {},
   "outputs": [],
   "source": [
    "import pandas as pd"
   ]
  },
  {
   "cell_type": "markdown",
   "id": "e61e1845-800f-436b-9e22-c814f73a90c2",
   "metadata": {},
   "source": [
    "# 2. Creating Data Structures"
   ]
  },
  {
   "cell_type": "markdown",
   "id": "3326fa08-201b-4c37-9947-c431a6e189ff",
   "metadata": {},
   "source": [
    "### a. Series"
   ]
  },
  {
   "cell_type": "code",
   "execution_count": null,
   "id": "6e204973-ba86-4189-9f6f-b797529cdbde",
   "metadata": {},
   "outputs": [],
   "source": [
    "\n",
    "# Creating a Series from a list\n",
    "s = pd.Series([1, 3, 5, 7, 9])\n",
    "print(s)\n"
   ]
  },
  {
   "cell_type": "markdown",
   "id": "35b73e76-be04-42ce-b5b9-b1a61bd975ff",
   "metadata": {},
   "source": [
    "## b. DataFrame"
   ]
  },
  {
   "cell_type": "markdown",
   "id": "ad8ff0d3-95c1-4629-a402-80fbad4ce594",
   "metadata": {},
   "source": [
    "### A two-dimensional, tabular data structure."
   ]
  },
  {
   "cell_type": "code",
   "execution_count": null,
   "id": "4ad827cf-9195-48c5-bff0-e2fb433ee7c2",
   "metadata": {},
   "outputs": [],
   "source": [
    "# Creating a DataFrame from a dictionary\n",
    "data = {'Name': ['Alice', 'Bob', 'Charlie'],\n",
    "        'Age': [25, 30, 35],\n",
    "        'City': ['New York', 'Los Angeles', 'Chicago']}\n",
    "\n",
    "df = pd.DataFrame(data)\n",
    "print(df)\n"
   ]
  },
  {
   "cell_type": "markdown",
   "id": "d7e57d1d-e2c1-4b8a-863f-7ba5251aa152",
   "metadata": {},
   "source": [
    "## 3. Reading and Writing Data"
   ]
  },
  {
   "cell_type": "markdown",
   "id": "a545ad33-3e27-44f3-a320-4977c8195d3c",
   "metadata": {},
   "source": [
    "### a. Reading from CSV"
   ]
  },
  {
   "cell_type": "code",
   "execution_count": null,
   "id": "51618abe-e8cc-4db7-8948-1e67d3044056",
   "metadata": {},
   "outputs": [],
   "source": [
    "df = pd.read_csv('data.csv')\n",
    "print(df.head())\n"
   ]
  },
  {
   "cell_type": "markdown",
   "id": "031ed64c-1026-424d-bfb1-987987235af0",
   "metadata": {},
   "source": [
    "### b. Writing to CSV"
   ]
  },
  {
   "cell_type": "code",
   "execution_count": null,
   "id": "c7cd9d45-1e5d-419b-8238-aae5619331d6",
   "metadata": {},
   "outputs": [],
   "source": [
    "df.to_csv('output.csv', index=False)\n"
   ]
  },
  {
   "cell_type": "markdown",
   "id": "d1adcf81-4812-4096-aa3a-a0d6d04379a9",
   "metadata": {},
   "source": [
    "# 4. Viewing Data"
   ]
  },
  {
   "cell_type": "code",
   "execution_count": null,
   "id": "f2202635-f90b-45a3-9464-c2e1a380f6f5",
   "metadata": {},
   "outputs": [],
   "source": [
    "print(df.head())       # First 5 rows\n",
    "print(df.tail())       # Last 5 rows\n",
    "print(df.shape)        # Rows and columns\n",
    "print(df.info())       # Summary of DataFrame\n",
    "print(df.describe())   # Statistical summary\n"
   ]
  },
  {
   "cell_type": "markdown",
   "id": "d872cd4d-7494-4077-81e3-d52f48ce6dd7",
   "metadata": {},
   "source": [
    "# 5. Selecting Data"
   ]
  },
  {
   "cell_type": "markdown",
   "id": "92887ce9-419e-49ca-8c88-a34ed25089a4",
   "metadata": {},
   "source": [
    "### a. Selecting Columns"
   ]
  },
  {
   "cell_type": "code",
   "execution_count": null,
   "id": "1d0e4038-5bd6-4060-a39e-7e1cb340735a",
   "metadata": {},
   "outputs": [],
   "source": [
    "print(df['Name'])      # Single column\n",
    "print(df[['Name', 'Age']])  # Multiple columns\n"
   ]
  },
  {
   "cell_type": "markdown",
   "id": "1252481f-b30f-4eb2-8386-0721d1c64853",
   "metadata": {},
   "source": [
    "### b. Selecting Rows"
   ]
  },
  {
   "cell_type": "code",
   "execution_count": null,
   "id": "dc7cbc24-d2de-43ad-9b6c-bf6226bd699b",
   "metadata": {},
   "outputs": [],
   "source": [
    "print(df.iloc[0])      # By index position\n",
    "#print(df.loc[0])       # By index label (if set)\n"
   ]
  },
  {
   "cell_type": "markdown",
   "id": "0387bd1f-42a4-4ca7-985f-e70f61f5b0db",
   "metadata": {},
   "source": [
    "### DataFrame.iat\n",
    "### Fast integer location scalar accessor.\n",
    "\n",
    "### DataFrame.loc\n",
    "### Purely label-location based indexer for selection by label.\n",
    "\n",
    "### Series.iloc\n",
    "### Purely integer-location based indexing for selection by position."
   ]
  },
  {
   "cell_type": "markdown",
   "id": "cac0c51d-028a-46d8-a284-320adf9d1ad8",
   "metadata": {},
   "source": [
    "# c. Conditional Selection"
   ]
  },
  {
   "cell_type": "code",
   "execution_count": null,
   "id": "703d69d5-fa51-4ca9-9784-a4e92723371b",
   "metadata": {},
   "outputs": [],
   "source": [
    "print(df[df['Age'] > 30])\n"
   ]
  },
  {
   "cell_type": "markdown",
   "id": "254fcde1-ad37-4bc7-95e6-0fa66ac5328e",
   "metadata": {},
   "source": [
    "# 6. Modifying Data"
   ]
  },
  {
   "cell_type": "markdown",
   "id": "8a9a5ee9-fcbc-4819-8d63-da3c58199fbd",
   "metadata": {},
   "source": [
    "### a. Adding Columns"
   ]
  },
  {
   "cell_type": "code",
   "execution_count": null,
   "id": "6afee1ac-144d-4d2e-a15e-c849ea051f2b",
   "metadata": {},
   "outputs": [],
   "source": [
    "df['Salary'] = [50000, 60000, 70000]\n",
    "print(df)\n"
   ]
  },
  {
   "cell_type": "markdown",
   "id": "c32f22fc-9773-45ad-87a3-6fcc95c47dff",
   "metadata": {},
   "source": [
    "### b. Updating Values"
   ]
  },
  {
   "cell_type": "code",
   "execution_count": null,
   "id": "ed94a50d-cfdb-4f55-92ac-559abab868d5",
   "metadata": {},
   "outputs": [],
   "source": [
    "df.at[0, 'Age'] = 26\n",
    "print(df)\n"
   ]
  },
  {
   "cell_type": "code",
   "execution_count": null,
   "id": "913cb2e9-1434-42cf-be9d-ebd973b0822a",
   "metadata": {},
   "outputs": [],
   "source": [
    "df.at[2,\"Age\"]=40"
   ]
  },
  {
   "cell_type": "code",
   "execution_count": null,
   "id": "ef99543f-69e1-497e-bdb2-58326655a9c5",
   "metadata": {},
   "outputs": [],
   "source": [
    "df"
   ]
  },
  {
   "cell_type": "markdown",
   "id": "e83e82a5-dd92-4d28-bd86-bc0e03d754dc",
   "metadata": {},
   "source": [
    "## c. Deleting Columns/Rows"
   ]
  },
  {
   "cell_type": "code",
   "execution_count": null,
   "id": "2f3e35de-d470-411d-a751-dfb8ff1ceea3",
   "metadata": {},
   "outputs": [],
   "source": [
    "df.drop('Salary', axis=1, inplace=True)  # Drop column\n",
    "df.drop(0, axis=0, inplace=True)         # Drop row\n",
    "print(df)\n"
   ]
  },
  {
   "cell_type": "markdown",
   "id": "902f3950-210a-47b4-8eb9-91098e0d8cc8",
   "metadata": {},
   "source": [
    "## 7. Handling Missing Data"
   ]
  },
  {
   "cell_type": "code",
   "execution_count": null,
   "id": "4f7e6f45-801b-4680-b2ec-fd6460d4e1d7",
   "metadata": {},
   "outputs": [],
   "source": [
    "df = pd.DataFrame({'A': [1, 2, None], 'B': [4, None, 6]})\n",
    "\n",
    "# Check for missing values\n",
    "print(df.isnull())\n",
    "\n",
    "# Fill missing values\n",
    "df.fillna(0, inplace=True)\n",
    "print(df)\n",
    "\n",
    "# Drop rows with missing values\n",
    "df.dropna(inplace=True)\n",
    "print(df)\n"
   ]
  },
  {
   "cell_type": "markdown",
   "id": "fc7ddff4-84a9-4dcc-aa81-026cdcf30b30",
   "metadata": {},
   "source": [
    "## 8. Working with Index"
   ]
  },
  {
   "cell_type": "code",
   "execution_count": null,
   "id": "c1e5b12e-1d78-4e15-9d3c-2c85ea406b9c",
   "metadata": {},
   "outputs": [],
   "source": [
    "df.set_index('Name', inplace=True)\n",
    "print(df)\n",
    "\n",
    "df.reset_index(inplace=True)\n",
    "print(df)\n"
   ]
  },
  {
   "cell_type": "markdown",
   "id": "037a8613-2795-4a80-bdc7-b594929eae4d",
   "metadata": {},
   "source": [
    "# 9. Sorting Data"
   ]
  },
  {
   "cell_type": "code",
   "execution_count": null,
   "id": "fedd89bd-b17a-4793-a341-a793305ad930",
   "metadata": {},
   "outputs": [],
   "source": [
    "# Sort by column\n",
    "df.sort_values('Age', ascending=False, inplace=True)\n",
    "print(df)\n",
    "\n",
    "# Sort by index\n",
    "df.sort_index(inplace=True)\n",
    "print(df)\n"
   ]
  },
  {
   "cell_type": "markdown",
   "id": "8a3f88b9-377c-4b2b-a001-eb97f1611be1",
   "metadata": {},
   "source": [
    "# 10. Grouping Data"
   ]
  },
  {
   "cell_type": "code",
   "execution_count": null,
   "id": "fd53d261-354d-4995-80a9-8b2e1d32b8d7",
   "metadata": {},
   "outputs": [],
   "source": [
    "data = {'Category': ['A', 'B', 'A', 'B'], 'Values': [10, 20, 30, 40]}\n",
    "df = pd.DataFrame(data)\n",
    "\n",
    "# Group by 'Category' and sum 'Values'\n",
    "grouped = df.groupby('Category')['Values'].sum()\n",
    "print(grouped)\n"
   ]
  },
  {
   "cell_type": "markdown",
   "id": "0445c17f-7051-4048-a4d5-451413f6824b",
   "metadata": {},
   "source": [
    "# 11. Merging and Joining DataFrames"
   ]
  },
  {
   "cell_type": "markdown",
   "id": "d0cfcd3e-3da3-434d-85ba-21a69c51f1e7",
   "metadata": {},
   "source": [
    "### a. Concatenation"
   ]
  },
  {
   "cell_type": "code",
   "execution_count": null,
   "id": "b956da05-eb18-43af-98e7-c136474514df",
   "metadata": {},
   "outputs": [],
   "source": [
    "df1 = pd.DataFrame({'A': [1, 2], 'B': [3, 4]})\n",
    "df2 = pd.DataFrame({'A': [5, 6], 'B': [7, 8]})\n",
    "\n",
    "result = pd.concat([df1, df2])\n",
    "print(result)\n"
   ]
  },
  {
   "cell_type": "markdown",
   "id": "fc435f9b-b9b3-46ad-bfe9-ff26f5d2a4c3",
   "metadata": {},
   "source": [
    "### b. Merging"
   ]
  },
  {
   "cell_type": "code",
   "execution_count": null,
   "id": "c93f636c-c213-4dbd-ba7d-c1fa6b361ce4",
   "metadata": {},
   "outputs": [],
   "source": [
    "df1 = pd.DataFrame({'key': ['K0', 'K1'], 'A': ['A0', 'A1']})\n",
    "df2 = pd.DataFrame({'key': ['K0', 'K1'], 'B': ['B0', 'B1']})\n",
    "\n",
    "result = pd.merge(df1, df2, on='key')\n",
    "print(result)\n"
   ]
  },
  {
   "cell_type": "markdown",
   "id": "bee7f666-9c41-4d1d-96cf-2c620d60e67d",
   "metadata": {},
   "source": [
    "### c. Joining"
   ]
  },
  {
   "cell_type": "markdown",
   "id": "4584aa50-af39-4671-b7d9-ff988eac987d",
   "metadata": {},
   "source": [
    "df1 = pd.DataFrame({'A': ['A0', 'A1']}, index=['K0', 'K1'])\n",
    "df2 = pd.DataFrame({'B': ['B0', 'B1']}, index=['K0', 'K1'])\n",
    "\n",
    "result = df1.join(df2)\n",
    "print(result)\n"
   ]
  },
  {
   "cell_type": "markdown",
   "id": "eff4df8e-db2a-41f1-8e0b-cdb8ba8821c8",
   "metadata": {},
   "source": [
    "# 12. Pivot Tables"
   ]
  },
  {
   "cell_type": "markdown",
   "id": "ccbb3781-112b-41ca-aa54-3e153f73b839",
   "metadata": {},
   "source": [
    "data = {'Category': ['A', 'B', 'A', 'B'], 'Type': ['X', 'Y', 'X', 'Y'], 'Values': [10, 20, 30, 40]}\n",
    "df = pd.DataFrame(data)\n",
    "\n",
    "pivot_table = df.pivot_table(values='Values', index='Category', columns='Type', aggfunc='sum')\n",
    "print(pivot_table)\n"
   ]
  },
  {
   "cell_type": "markdown",
   "id": "43d692f7-36d2-4f02-ad2a-0f3b74d2c110",
   "metadata": {},
   "source": [
    "#  13. Applying Functions"
   ]
  },
  {
   "cell_type": "code",
   "execution_count": null,
   "id": "c98dc0a2-bec3-4c71-8439-4f027c22d80d",
   "metadata": {},
   "outputs": [],
   "source": [
    "# Creating a date range\n",
    "dates = pd.date_range('2024-01-01', periods=5)\n",
    "print(dates)\n",
    "\n",
    "# Adding date to DataFrame\n",
    "df['Date'] = dates\n",
    "print(df)\n"
   ]
  },
  {
   "cell_type": "markdown",
   "id": "daceb0a4-934f-4c13-9137-81365b378ef2",
   "metadata": {},
   "source": [
    "\n",
    "## 14. Working with Dates"
   ]
  },
  {
   "cell_type": "code",
   "execution_count": null,
   "id": "b71c45a5-1662-40db-bb9e-dcba25fecaae",
   "metadata": {},
   "outputs": [],
   "source": [
    "# Creating a date range\n",
    "dates = pd.date_range('2024-01-01', periods=5)\n",
    "print(dates)\n",
    "\n",
    "# Adding date to DataFrame\n",
    "df['Date'] = dates\n",
    "print(df)\n"
   ]
  },
  {
   "cell_type": "markdown",
   "id": "48a427f7-956a-46b9-8ebc-065af2da4963",
   "metadata": {},
   "source": [
    "## 15. Exporting Data to Other Formats"
   ]
  },
  {
   "cell_type": "code",
   "execution_count": null,
   "id": "aaaf587c-ec40-4b23-8543-95f9e918823b",
   "metadata": {},
   "outputs": [],
   "source": [
    "# Export to Excel\n",
    "df.to_excel('output.xlsx', index=False)\n",
    "\n",
    "# Export to JSON\n",
    "df.to_json('output.json')\n"
   ]
  },
  {
   "cell_type": "markdown",
   "id": "4de1cdb9-09ac-4f1e-872b-f99503bdddd3",
   "metadata": {},
   "source": [
    "# 16. Advanced Data Types"
   ]
  },
  {
   "cell_type": "markdown",
   "id": "f2b91839-a64e-4e08-8b48-73b9661c20e8",
   "metadata": {},
   "source": [
    "## a. Categorical Data"
   ]
  },
  {
   "cell_type": "code",
   "execution_count": null,
   "id": "4a62433b-8e6d-472a-9cb2-00c3f77407bb",
   "metadata": {},
   "outputs": [],
   "source": [
    "df['Category'] = pd.Categorical(['test', 'train', 'test', 'train'])\n",
    "print(df.dtypes)\n"
   ]
  },
  {
   "cell_type": "markdown",
   "id": "0ffdb8ef-a94e-4dbb-8da6-440be137ee5e",
   "metadata": {},
   "source": [
    "## b. Handling Time Series"
   ]
  },
  {
   "cell_type": "code",
   "execution_count": null,
   "id": "917b2d7c-bb41-4593-88e9-ddd6dde25954",
   "metadata": {},
   "outputs": [],
   "source": [
    "df['Date'] = pd.to_datetime(df['Date'])\n",
    "print(df.set_index('Date').resample('D').mean())\n"
   ]
  },
  {
   "cell_type": "code",
   "execution_count": null,
   "id": "bf89e74a-53f2-4628-9fd2-f85d120dd8c2",
   "metadata": {},
   "outputs": [],
   "source": []
  }
 ],
 "metadata": {
  "kernelspec": {
   "display_name": "Python 3 (ipykernel)",
   "language": "python",
   "name": "python3"
  },
  "language_info": {
   "codemirror_mode": {
    "name": "ipython",
    "version": 3
   },
   "file_extension": ".py",
   "mimetype": "text/x-python",
   "name": "python",
   "nbconvert_exporter": "python",
   "pygments_lexer": "ipython3",
   "version": "3.12.4"
  }
 },
 "nbformat": 4,
 "nbformat_minor": 5
}
