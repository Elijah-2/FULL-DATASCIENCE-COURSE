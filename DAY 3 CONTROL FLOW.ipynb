{
 "cells": [
  {
   "cell_type": "markdown",
   "id": "5e588ca2-fd94-49a9-b24d-eabaf532fd93",
   "metadata": {},
   "source": [
    "## Day 3: Control Flow in Python\n",
    "### •\tTask: Learn about conditional statements (if, else, elif) and loops (for, while).\n",
    "### •\tYouTube Video: Python Loops and Conditions\n"
   ]
  },
  {
   "cell_type": "markdown",
   "id": "8cd705b7-a00f-4f66-822b-b6af6369f0b7",
   "metadata": {},
   "source": [
    "# WHAT IS CONTROL FLOW ?"
   ]
  },
  {
   "cell_type": "markdown",
   "id": "90c7ee01-9123-4ce5-8bae-f052da498a57",
   "metadata": {},
   "source": [
    "### Control flow determines the order in which statements are executed. In Python, control flow is managed using:\n",
    "\n",
    "### Conditional Statements: (if, else, elif)\n",
    "### Loops: (for, while)\n",
    "### Control Keywords: (break, continue, pass)"
   ]
  },
  {
   "cell_type": "markdown",
   "id": "312c3900-4476-4903-86f7-979a7de0e9e4",
   "metadata": {},
   "source": [
    "## 1.2. Conditional Statements\n",
    "### Conditional statements are used to execute code blocks based on specific conditions."
   ]
  },
  {
   "cell_type": "markdown",
   "id": "2301f7ed-e8a1-4462-be62-a57948cbec01",
   "metadata": {},
   "source": [
    "# SYNTAX"
   ]
  },
  {
   "cell_type": "code",
   "execution_count": null,
   "id": "f97e61f7-dc39-403f-936c-96d313834ec7",
   "metadata": {},
   "outputs": [],
   "source": [
    "if condition:\n",
    "    # Code block for true condition\n",
    "elif another_condition:\n",
    "    # Code block for another condition\n",
    "else:\n",
    "    # Code block if all conditions are false\n"
   ]
  },
  {
   "cell_type": "markdown",
   "id": "f9ab3c5a-58ca-44be-ad37-787bf93a5866",
   "metadata": {},
   "source": [
    "# EXAMPLE"
   ]
  },
  {
   "cell_type": "code",
   "execution_count": 11,
   "id": "847f003f-7932-45f2-bf99-cc2d0137c5fd",
   "metadata": {},
   "outputs": [
    {
     "name": "stdout",
     "output_type": "stream",
     "text": [
      "x is greater than 5\n"
     ]
    }
   ],
   "source": [
    "x = 10\n",
    "if x > 5:\n",
    "    print(\"x is greater than 5\")\n",
    "elif x == 5:\n",
    "    print(\"x is equal to 5\")\n",
    "else:\n",
    "    print(\"x is less than 5\")\n"
   ]
  },
  {
   "cell_type": "markdown",
   "id": "ab48ca80-16eb-4920-9688-4fec3d8f5b23",
   "metadata": {},
   "source": [
    "# 1.3 LOOPS\n",
    "## 1.3.1 for loops\n",
    "### Loops allow repeated execution of a block of code."
   ]
  },
  {
   "cell_type": "markdown",
   "id": "08291b5f-70cc-4835-a034-daad20bfa112",
   "metadata": {},
   "source": [
    "# SYNTAX"
   ]
  },
  {
   "cell_type": "code",
   "execution_count": null,
   "id": "83528641-93fc-4f2f-8d28-a242a5dfeee0",
   "metadata": {},
   "outputs": [],
   "source": [
    "for variable in sequence:\n",
    "    # Code block\n"
   ]
  },
  {
   "cell_type": "markdown",
   "id": "3b523146-d986-4ef5-a551-d9e43b74bdd4",
   "metadata": {},
   "source": [
    "## using range() in python for loops:"
   ]
  },
  {
   "cell_type": "code",
   "execution_count": null,
   "id": "034b0a19-76f1-477d-b744-17b794a8ebe8",
   "metadata": {},
   "outputs": [],
   "source": [
    "for i in range(5):  # Loops from 0 to 4\n",
    "    print(i)\n"
   ]
  },
  {
   "cell_type": "markdown",
   "id": "479be981-3661-49f4-98a5-f913d36314dd",
   "metadata": {},
   "source": [
    "## 1.3.2 while loops"
   ]
  },
  {
   "cell_type": "markdown",
   "id": "44ae2910-7277-4431-b006-8302a07331e1",
   "metadata": {},
   "source": [
    "### Executes a block of code as long as a condition is true."
   ]
  },
  {
   "cell_type": "markdown",
   "id": "9c45477d-09c3-403d-9c02-59b0233f13c4",
   "metadata": {},
   "source": [
    "## syntax"
   ]
  },
  {
   "cell_type": "code",
   "execution_count": null,
   "id": "faf66350-8dee-4b39-97e9-5691395242b4",
   "metadata": {},
   "outputs": [],
   "source": [
    "while condition:\n",
    "    # Code block\n"
   ]
  },
  {
   "cell_type": "markdown",
   "id": "bcec2bc4-a1a0-410b-84fb-af1e6b3ed24c",
   "metadata": {},
   "source": [
    "### example"
   ]
  },
  {
   "cell_type": "code",
   "execution_count": null,
   "id": "b21ff72f-e29a-49d0-afec-ec009001f2e4",
   "metadata": {},
   "outputs": [],
   "source": [
    "x = 0\n",
    "while x < 5:\n",
    "    print(x)\n",
    "    x += 1\n"
   ]
  },
  {
   "cell_type": "markdown",
   "id": "c74d0fc0-ec65-4f03-b343-c6b7bdfb6c91",
   "metadata": {},
   "source": [
    "# 1.4 CONTROL KEYWORDS \n",
    "### 1.4.1 BREAK\n",
    "#### Exits a loop prematurely when a specific condition is met."
   ]
  },
  {
   "cell_type": "markdown",
   "id": "52e46fba-9895-4f57-9057-921b23602f68",
   "metadata": {},
   "source": [
    "### EXAMPLE"
   ]
  },
  {
   "cell_type": "code",
   "execution_count": null,
   "id": "cccd4095-c6c6-4fb5-b01d-7334951adf00",
   "metadata": {},
   "outputs": [],
   "source": [
    "for i in range(10):\n",
    "    if i == 5:\n",
    "        break\n",
    "    print(i)\n"
   ]
  },
  {
   "cell_type": "markdown",
   "id": "b19a9256-5fdd-4a56-b625-a75b6d0a88c8",
   "metadata": {},
   "source": [
    "## 1.4.2 CONTINUE\n",
    "### Skips the current iteration and moves to the next."
   ]
  },
  {
   "cell_type": "markdown",
   "id": "5ef467ae-8c0f-4bcc-9ab1-d93293b57923",
   "metadata": {},
   "source": [
    "## EXAMPLE"
   ]
  },
  {
   "cell_type": "code",
   "execution_count": 31,
   "id": "7e8c53fe-a234-457c-a5c1-554f003aaf15",
   "metadata": {},
   "outputs": [
    {
     "name": "stdout",
     "output_type": "stream",
     "text": [
      "0\n",
      "1\n",
      "3\n",
      "4\n"
     ]
    }
   ],
   "source": [
    "for i in range(5):\n",
    "    if i == 2:\n",
    "        continue\n",
    "    print(i)\n"
   ]
  },
  {
   "cell_type": "markdown",
   "id": "df49b7ed-b499-4915-8ba7-f04a1089d6bc",
   "metadata": {},
   "source": [
    "## 1.4.3 PASS\n",
    "### Does nothing and acts as a placeholder."
   ]
  },
  {
   "cell_type": "markdown",
   "id": "ead4dbf7-01e0-45ae-aeca-6a98898b4204",
   "metadata": {},
   "source": [
    "## Example"
   ]
  },
  {
   "cell_type": "code",
   "execution_count": null,
   "id": "66333b7b-33d1-4c96-98ab-0008731cab74",
   "metadata": {},
   "outputs": [],
   "source": [
    "if True:\n",
    "    pass  # To implement later\n"
   ]
  },
  {
   "cell_type": "markdown",
   "id": "83401c1d-1c9b-45cc-a856-0ec65c21401f",
   "metadata": {},
   "source": [
    "# 1.5 NESTING IN CONTROL FLOW\n",
    "### You can nest conditional statements and loops to create complex logic."
   ]
  },
  {
   "cell_type": "markdown",
   "id": "6942477b-f479-41da-9661-7452b3151fee",
   "metadata": {},
   "source": [
    "## EXAMPLE"
   ]
  },
  {
   "cell_type": "code",
   "execution_count": 39,
   "id": "a3b1455c-7fab-465d-89fd-5075010457e7",
   "metadata": {},
   "outputs": [
    {
     "name": "stdout",
     "output_type": "stream",
     "text": [
      "0 is even\n",
      "1 is odd\n",
      "2 is even\n",
      "3 is odd\n",
      "4 is even\n",
      "5 is odd\n",
      "6 is even\n",
      "7 is odd\n",
      "8 is even\n",
      "9 is odd\n"
     ]
    }
   ],
   "source": [
    "for i in range(10):\n",
    "    if i % 2 == 0:\n",
    "        print(f\"{i} is even\")\n",
    "    else:\n",
    "        print(f\"{i} is odd\")\n"
   ]
  },
  {
   "cell_type": "markdown",
   "id": "c8244165-6e2f-46bc-b026-2c078f567726",
   "metadata": {},
   "source": [
    "### Common Use Cases"
   ]
  },
  {
   "cell_type": "markdown",
   "id": "ade876d6-9d6d-4b7d-a97a-c04356190ec9",
   "metadata": {},
   "source": [
    "### Decision-making: Conditional statements decide the flow based on input or data.\n",
    "\n",
    "### Iteration: Loops process elements in a list, string, or other iterable structures.\n",
    "\n",
    "### Error Handling: Using if conditions to prevent program crashes.\n",
    "\n",
    "### Automation: Automate repetitive tasks with loops."
   ]
  },
  {
   "cell_type": "markdown",
   "id": "bb7a4a39-0276-4082-98fc-2731fd47814b",
   "metadata": {},
   "source": [
    "## BEST PRACTICES\n",
    "### Keep conditions readable: Use meaningful variable names.\n",
    "\n",
    "### Avoid infinite loops: Always have a condition that eventually becomes false.\n",
    "\n",
    "### Use elif for multiple conditions: Avoid too many nested if-else.\n",
    "\n",
    "### Break down complex logic: Use functions for clarity"
   ]
  },
  {
   "cell_type": "code",
   "execution_count": null,
   "id": "86a90ccc-3099-472b-a775-7b833180faed",
   "metadata": {},
   "outputs": [],
   "source": []
  }
 ],
 "metadata": {
  "kernelspec": {
   "display_name": "Python 3 (ipykernel)",
   "language": "python",
   "name": "python3"
  },
  "language_info": {
   "codemirror_mode": {
    "name": "ipython",
    "version": 3
   },
   "file_extension": ".py",
   "mimetype": "text/x-python",
   "name": "python",
   "nbconvert_exporter": "python",
   "pygments_lexer": "ipython3",
   "version": "3.12.4"
  }
 },
 "nbformat": 4,
 "nbformat_minor": 5
}
