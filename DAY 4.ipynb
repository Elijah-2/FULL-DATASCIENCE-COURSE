{
 "cells": [
  {
   "cell_type": "markdown",
   "id": "0030bd97-b67a-4d13-a892-b6952c8e43c2",
   "metadata": {},
   "source": [
    "# Day 4: Functions in Python\n",
    "### •\tTask: Understand and implement functions in Python. Learn about arguments, return values, and scope.\n",
    "### •\tYouTube Video: Python Functions\n"
   ]
  },
  {
   "cell_type": "markdown",
   "id": "e54f6b2c-daf4-4994-a876-7c4a7cfb4eed",
   "metadata": {},
   "source": [
    "# 1.1 WHAT IS FUNCTION ?"
   ]
  },
  {
   "cell_type": "markdown",
   "id": "d73cf68c-d772-4e94-8eec-201d7999f7c3",
   "metadata": {},
   "source": [
    "### A function is a block of organized, reusable code that performs a specific task. Functions help break down complex programs into smaller, manageable parts. "
   ]
  },
  {
   "cell_type": "markdown",
   "id": "241d7a56-2c69-49a7-8092-df345bc2f89b",
   "metadata": {},
   "source": [
    "## 1.2 TYPES OF FUNCTIONS IN PYTHON"
   ]
  },
  {
   "cell_type": "markdown",
   "id": "e6b88492-12d9-4883-9c47-a764142a9924",
   "metadata": {},
   "source": [
    "### Built-in Functions: \n",
    "#### Predefined functions like print(), len(), etc.\n",
    "### User-defined Functions:\n",
    "#### Functions created by the programmer to perform specific tasks."
   ]
  },
  {
   "cell_type": "markdown",
   "id": "8d6fe074-c6fd-422a-8c18-68e70bc4da04",
   "metadata": {},
   "source": [
    "## 1.3 HOW TO DEFINE A FUNCTION ?"
   ]
  },
  {
   "cell_type": "markdown",
   "id": "0cdbef56-8daf-41e6-bc94-0b5de28f5cd4",
   "metadata": {},
   "source": [
    "#### Functions are defined using the def keyword."
   ]
  },
  {
   "cell_type": "markdown",
   "id": "e2b25d04-b0ce-4dd1-89b1-fdf77472d520",
   "metadata": {},
   "source": [
    "### SYNTAX "
   ]
  },
  {
   "cell_type": "code",
   "execution_count": null,
   "id": "9ad04eda-e572-4cf9-bda7-8f7604d89706",
   "metadata": {},
   "outputs": [],
   "source": [
    "def function_name(parameters):\n",
    "    \"\"\"Optional docstring for the function\"\"\"\n",
    "    # Code block\n",
    "    return value  # Optional\n"
   ]
  },
  {
   "cell_type": "markdown",
   "id": "3b3bf69f-b6dd-4f6a-98da-cc4bada0daab",
   "metadata": {},
   "source": [
    "### EXAMPLE"
   ]
  },
  {
   "cell_type": "code",
   "execution_count": 16,
   "id": "b245baa8-3100-4c3e-90d2-06d5884f5688",
   "metadata": {},
   "outputs": [],
   "source": [
    "def greet(name):\n",
    "    \"\"\"Greets the user by name.\"\"\"\n",
    "    return f\"Hello, {name}!\"\n"
   ]
  },
  {
   "cell_type": "code",
   "execution_count": 18,
   "id": "e47cf496-7afe-408c-9ecd-2f53ae3a784c",
   "metadata": {},
   "outputs": [
    {
     "data": {
      "text/plain": [
       "'Hello, elijah ouma onyango!'"
      ]
     },
     "execution_count": 18,
     "metadata": {},
     "output_type": "execute_result"
    }
   ],
   "source": [
    "greet(\"elijah ouma onyango\")"
   ]
  },
  {
   "cell_type": "markdown",
   "id": "9b909688-a752-46e2-a764-777d55256b71",
   "metadata": {},
   "source": [
    "## 1.4 Calling a Function ?\n",
    "### A function is executed by its name followed by parentheses, optionally passing arguments."
   ]
  },
  {
   "cell_type": "markdown",
   "id": "fcc6ae92-175a-4ec6-bfd9-b1dee0a5ca59",
   "metadata": {},
   "source": [
    "### example \n"
   ]
  },
  {
   "cell_type": "code",
   "execution_count": 22,
   "id": "914af803-8143-4755-932f-1038293d4fcc",
   "metadata": {},
   "outputs": [
    {
     "name": "stdout",
     "output_type": "stream",
     "text": [
      "Hello, michael Otieno!\n"
     ]
    }
   ],
   "source": [
    "message=greet(\"michael Otieno\")\n",
    "print(message)"
   ]
  },
  {
   "cell_type": "markdown",
   "id": "33ebfca5-d457-4421-ae3e-ad786f9a6467",
   "metadata": {},
   "source": [
    "## 1.5 Function Arguments\n",
    "### Arguments are values passed to a function when it is called. Python supports different types of arguments:"
   ]
  },
  {
   "cell_type": "markdown",
   "id": "467f63fd-59a0-4c85-a70f-2a7d850d87a0",
   "metadata": {},
   "source": [
    "## 1.5.1 Positional Arguments\n",
    "#### Arguments are assigned in the order they are defined."
   ]
  },
  {
   "cell_type": "markdown",
   "id": "dc1e8cd2-dda4-44a3-8619-5af65f29ad94",
   "metadata": {},
   "source": [
    "#### example"
   ]
  },
  {
   "cell_type": "code",
   "execution_count": 28,
   "id": "cc6ce7cc-d204-48c8-b89b-48b454fb275e",
   "metadata": {},
   "outputs": [
    {
     "name": "stdout",
     "output_type": "stream",
     "text": [
      "8\n"
     ]
    }
   ],
   "source": [
    "def add(a, b):\n",
    "    return a + b\n",
    "\n",
    "print(add(5, 3))  # Output: 8\n"
   ]
  },
  {
   "cell_type": "markdown",
   "id": "2693df8e-1cbd-463c-b3cb-7c308fb68254",
   "metadata": {},
   "source": [
    "## 1.5.2 Keyword Arguments\n",
    "#### Arguments are passed by name"
   ]
  },
  {
   "cell_type": "code",
   "execution_count": 31,
   "id": "cc850581-8c87-407c-8978-325636d5d8a7",
   "metadata": {},
   "outputs": [
    {
     "name": "stdout",
     "output_type": "stream",
     "text": [
      "Name: Elijah, Age: 25\n"
     ]
    }
   ],
   "source": [
    "def greet_user(name, age):\n",
    "    return f\"Name: {name}, Age: {age}\"\n",
    "\n",
    "print(greet_user(age=25, name=\"Elijah\"))\n"
   ]
  },
  {
   "cell_type": "markdown",
   "id": "b9bc9755-cc23-4ee7-9d17-1ba16f03f997",
   "metadata": {},
   "source": [
    "## 1.5.3 Default Arguments\n",
    "#### Default Arguments are values used if no value is provided"
   ]
  },
  {
   "cell_type": "markdown",
   "id": "a816c54b-9bd5-4d45-99dc-4706d6f28717",
   "metadata": {},
   "source": [
    "### example"
   ]
  },
  {
   "cell_type": "code",
   "execution_count": 35,
   "id": "ea8aeda6-16bb-46b1-89b5-f503c5500ce1",
   "metadata": {},
   "outputs": [
    {
     "name": "stdout",
     "output_type": "stream",
     "text": [
      "Hello, User!\n",
      "Hello, Elijah!\n"
     ]
    }
   ],
   "source": [
    "def greet(name=\"User\"):\n",
    "    return f\"Hello, {name}!\"\n",
    "\n",
    "print(greet())  # Output: Hello, User!\n",
    "print(greet(\"Elijah\"))  # Output: Hello, Elijah!\n"
   ]
  },
  {
   "cell_type": "markdown",
   "id": "b32cb6cf-ebf2-44bb-abbc-55d40fc91e06",
   "metadata": {},
   "source": [
    "## 1.5.4 Variable-Length Arguments\n",
    "#### *args: For multiple positional arguments"
   ]
  },
  {
   "cell_type": "markdown",
   "id": "cce19f41-de3d-4c1c-8c40-5756247f3813",
   "metadata": {},
   "source": [
    "### examples"
   ]
  },
  {
   "cell_type": "code",
   "execution_count": 39,
   "id": "c7d8ab72-e94d-4693-b970-a8c9a88b6c86",
   "metadata": {},
   "outputs": [
    {
     "name": "stdout",
     "output_type": "stream",
     "text": [
      "10\n"
     ]
    }
   ],
   "source": [
    "def total(*numbers):\n",
    "    return sum(numbers)\n",
    "\n",
    "print(total(1, 2, 3, 4))  # Output: 10\n"
   ]
  },
  {
   "cell_type": "markdown",
   "id": "87b01cd6-53c0-4f8e-ae33-fb92864f98a5",
   "metadata": {},
   "source": [
    "#### **kwargs: For multiple keyword arguments."
   ]
  },
  {
   "cell_type": "code",
   "execution_count": 44,
   "id": "708db2ce-3f81-4814-a108-0bade980971f",
   "metadata": {},
   "outputs": [
    {
     "name": "stdout",
     "output_type": "stream",
     "text": [
      "name: Elijah\n",
      "age: 25\n",
      "school: ELM\n"
     ]
    }
   ],
   "source": [
    "def display_info(**details):\n",
    "    for key, value in details.items():\n",
    "        print(f\"{key}: {value}\")\n",
    "\n",
    "display_info(name=\"Elijah\", age=25,school=\"ELM\")\n"
   ]
  },
  {
   "cell_type": "markdown",
   "id": "55694135-137a-4b09-a727-c6da881d902f",
   "metadata": {},
   "source": [
    "## 1.6 RETURN STATEMENT\n",
    "#### The return statement specifies the value a function should return"
   ]
  },
  {
   "cell_type": "markdown",
   "id": "348bfb36-1ec7-4071-92af-5bebdcf0b93a",
   "metadata": {},
   "source": [
    "### EXAMPLES"
   ]
  },
  {
   "cell_type": "code",
   "execution_count": 50,
   "id": "5b0b59a0-b3e0-42e7-a2e6-4f791d4046c7",
   "metadata": {},
   "outputs": [],
   "source": [
    "def square(num):\n",
    "    return num ** 2\n",
    "\n",
    "result = square(4)  # result is 16\n"
   ]
  },
  {
   "cell_type": "code",
   "execution_count": 52,
   "id": "27f99714-ed10-4e2c-8ffa-a341befd73bf",
   "metadata": {},
   "outputs": [
    {
     "name": "stdout",
     "output_type": "stream",
     "text": [
      "16\n"
     ]
    }
   ],
   "source": [
    "print(result)"
   ]
  },
  {
   "cell_type": "markdown",
   "id": "e01cd9dc-4d78-4f2c-8a97-0161b568f3a4",
   "metadata": {},
   "source": [
    "## 1.7 Function scope \n",
    "#### 1.7.1 Local Scope \n",
    "##### Variables defined inside a function are local to that function."
   ]
  },
  {
   "cell_type": "markdown",
   "id": "88021752-df88-4e39-a673-a252565975d0",
   "metadata": {},
   "source": [
    "### EXAMPLE "
   ]
  },
  {
   "cell_type": "code",
   "execution_count": 56,
   "id": "490a4e15-d657-4653-a001-55753fc60651",
   "metadata": {},
   "outputs": [
    {
     "name": "stdout",
     "output_type": "stream",
     "text": [
      "10\n"
     ]
    }
   ],
   "source": [
    "def example():\n",
    "    x = 10  # Local variable\n",
    "    return x\n",
    "\n",
    "print(example())\n",
    "# print(x)  # Error: x is not defined outside the function\n"
   ]
  },
  {
   "cell_type": "code",
   "execution_count": 58,
   "id": "fddd5d93-86bf-43ac-b596-490200dfe47a",
   "metadata": {},
   "outputs": [
    {
     "ename": "NameError",
     "evalue": "name 'x' is not defined",
     "output_type": "error",
     "traceback": [
      "\u001b[1;31m---------------------------------------------------------------------------\u001b[0m",
      "\u001b[1;31mNameError\u001b[0m                                 Traceback (most recent call last)",
      "Cell \u001b[1;32mIn[58], line 1\u001b[0m\n\u001b[1;32m----> 1\u001b[0m \u001b[38;5;28mprint\u001b[39m(x)\n",
      "\u001b[1;31mNameError\u001b[0m: name 'x' is not defined"
     ]
    }
   ],
   "source": [
    "print(x)"
   ]
  },
  {
   "cell_type": "markdown",
   "id": "c7053947-ba65-4856-93a0-6fb64f2556f9",
   "metadata": {},
   "source": [
    "## 1.7.2  Global Scope\n",
    "#### Variables defined outside all functions are global."
   ]
  },
  {
   "cell_type": "markdown",
   "id": "9a0b9d57-df59-4c48-a408-bc2a5c2e8b51",
   "metadata": {},
   "source": [
    "### example\n"
   ]
  },
  {
   "cell_type": "code",
   "execution_count": 62,
   "id": "8582cd08-7374-47d2-abf6-db38ca27c9f0",
   "metadata": {},
   "outputs": [
    {
     "name": "stdout",
     "output_type": "stream",
     "text": [
      "10\n"
     ]
    }
   ],
   "source": [
    "x = 10  # Global variable\n",
    "\n",
    "def example():\n",
    "    return x\n",
    "\n",
    "print(example())  # Output: 10\n"
   ]
  },
  {
   "cell_type": "code",
   "execution_count": 64,
   "id": "dea1b551-005a-48db-b67d-59d29e28eea7",
   "metadata": {},
   "outputs": [
    {
     "name": "stdout",
     "output_type": "stream",
     "text": [
      "10\n"
     ]
    }
   ],
   "source": [
    "print(x)"
   ]
  },
  {
   "cell_type": "markdown",
   "id": "336fa204-15ad-437c-8d6e-388c6d9e47dd",
   "metadata": {},
   "source": [
    "## 1.7.3 Using Global Keyword\n",
    "#### Allows modifying global variables inside a function "
   ]
  },
  {
   "cell_type": "markdown",
   "id": "86076e56-102a-4cbc-bae5-433f3cb1fc6f",
   "metadata": {},
   "source": [
    "### example"
   ]
  },
  {
   "cell_type": "code",
   "execution_count": 68,
   "id": "0951d099-78ea-486c-aa00-0d19ec4524a2",
   "metadata": {},
   "outputs": [
    {
     "name": "stdout",
     "output_type": "stream",
     "text": [
      "15\n"
     ]
    }
   ],
   "source": [
    "x = 10\n",
    "\n",
    "def modify_global():\n",
    "    global x\n",
    "    x += 5\n",
    "\n",
    "modify_global()\n",
    "print(x)  # Output: 15\n"
   ]
  },
  {
   "cell_type": "markdown",
   "id": "77f76240-4d53-4d09-bcd1-2f3a0313fcdb",
   "metadata": {},
   "source": [
    "# 1.8 Anonymous Functions (lambda)\n",
    "### Lambda functions are single-expression functions without a name."
   ]
  },
  {
   "cell_type": "markdown",
   "id": "9b888763-6673-408a-b049-d25caebbd834",
   "metadata": {},
   "source": [
    "## syntax"
   ]
  },
  {
   "cell_type": "code",
   "execution_count": null,
   "id": "fc89ddd1-ec1d-4e5e-84cb-ef35681d213e",
   "metadata": {},
   "outputs": [],
   "source": [
    "lambda arguments: expression\n"
   ]
  },
  {
   "cell_type": "markdown",
   "id": "545e9b97-ac5f-4b33-952a-d0be62fe1cd9",
   "metadata": {},
   "source": [
    "## Example"
   ]
  },
  {
   "cell_type": "code",
   "execution_count": 73,
   "id": "fd5910f9-320b-4d1e-9a28-d6a37c37239d",
   "metadata": {},
   "outputs": [
    {
     "name": "stdout",
     "output_type": "stream",
     "text": [
      "25\n"
     ]
    }
   ],
   "source": [
    "square = lambda x: x ** 2\n",
    "print(square(5))  # Output: 25\n"
   ]
  },
  {
   "cell_type": "code",
   "execution_count": 75,
   "id": "6b445402-e50e-49f1-8ae7-04bb149980c9",
   "metadata": {},
   "outputs": [
    {
     "name": "stdout",
     "output_type": "stream",
     "text": [
      "125\n"
     ]
    }
   ],
   "source": [
    "cube=lambda x:x*x*x\n",
    "print(cube(5))"
   ]
  },
  {
   "cell_type": "code",
   "execution_count": 79,
   "id": "c4e9531b-300e-4bc4-882b-d42117557084",
   "metadata": {},
   "outputs": [
    {
     "name": "stdout",
     "output_type": "stream",
     "text": [
      "8.0\n"
     ]
    }
   ],
   "source": [
    "square_root=lambda x:x**(1/2)\n",
    "print(square_root(64))"
   ]
  },
  {
   "cell_type": "code",
   "execution_count": 83,
   "id": "7616b418-77a2-4f11-9dc8-2444face69a4",
   "metadata": {},
   "outputs": [
    {
     "name": "stdout",
     "output_type": "stream",
     "text": [
      "15.0\n"
     ]
    }
   ],
   "source": [
    "print(square_root(225))"
   ]
  },
  {
   "cell_type": "markdown",
   "id": "5e1604c1-a4ea-45f0-a6e6-4fde76476e1a",
   "metadata": {},
   "source": [
    "# 1.9 NESTED FUNCTIONS"
   ]
  },
  {
   "cell_type": "markdown",
   "id": "7b805459-dcd5-49db-b1ab-a0a641eb47a2",
   "metadata": {},
   "source": [
    "#### Functions can be defined inside other functions."
   ]
  },
  {
   "cell_type": "markdown",
   "id": "3340b30e-22db-4f3d-9e74-97850af04a1a",
   "metadata": {},
   "source": [
    "#### EXAMPLE"
   ]
  },
  {
   "cell_type": "code",
   "execution_count": 90,
   "id": "65736782-686a-4508-8589-ee775c3eec49",
   "metadata": {},
   "outputs": [
    {
     "name": "stdout",
     "output_type": "stream",
     "text": [
      "HELLO\n"
     ]
    }
   ],
   "source": [
    "def outer_function(text):\n",
    "    def inner_function():\n",
    "        return text.upper()\n",
    "    return inner_function()\n",
    "\n",
    "print(outer_function(\"hello\"))  # Output: HELLO\n"
   ]
  },
  {
   "cell_type": "markdown",
   "id": "d55d63af-bb42-4735-ae63-f569e61daca3",
   "metadata": {},
   "source": [
    "### example 2"
   ]
  },
  {
   "cell_type": "code",
   "execution_count": 101,
   "id": "64e72f64-7b7d-4463-bb7a-ab5a16115505",
   "metadata": {},
   "outputs": [],
   "source": [
    "def out(text):\n",
    "    def inner():\n",
    "        return text.lower()\n",
    "    return inner()"
   ]
  },
  {
   "cell_type": "code",
   "execution_count": 103,
   "id": "25a37d95-c20f-4294-8f02-990197046095",
   "metadata": {},
   "outputs": [
    {
     "name": "stdout",
     "output_type": "stream",
     "text": [
      "my name is elijah ouma onyango\n"
     ]
    }
   ],
   "source": [
    "print(out(\"MY NAME IS ELIJAH OUMA ONYANGO\"))"
   ]
  },
  {
   "cell_type": "markdown",
   "id": "e3d8c229-0eb5-45aa-be17-8857ae491484",
   "metadata": {},
   "source": [
    "# 2.0 DECORATORS "
   ]
  },
  {
   "cell_type": "markdown",
   "id": "0cb0d70b-d079-421e-b90e-de30d8fda862",
   "metadata": {},
   "source": [
    "#### Decorators modify the behavior of functions or methods."
   ]
  },
  {
   "cell_type": "markdown",
   "id": "097ab342-87b1-4bad-b756-13373e3c94e6",
   "metadata": {},
   "source": [
    "### example "
   ]
  },
  {
   "cell_type": "code",
   "execution_count": 108,
   "id": "dcc3b75c-1fee-4b6e-a451-8c73ae8b942e",
   "metadata": {},
   "outputs": [
    {
     "name": "stdout",
     "output_type": "stream",
     "text": [
      "Before the function call\n",
      "Hello!\n",
      "After the function call\n"
     ]
    }
   ],
   "source": [
    "def decorator(func):\n",
    "    def wrapper():\n",
    "        print(\"Before the function call\")\n",
    "        func()\n",
    "        print(\"After the function call\")\n",
    "    return wrapper\n",
    "\n",
    "@decorator\n",
    "def say_hello():\n",
    "    print(\"Hello!\")\n",
    "\n",
    "say_hello()\n"
   ]
  },
  {
   "cell_type": "markdown",
   "id": "e8a6ed8b-ae60-4ba2-b201-eff00ac40496",
   "metadata": {},
   "source": [
    "### example 2"
   ]
  },
  {
   "cell_type": "code",
   "execution_count": 113,
   "id": "a7e403a8-58b7-499e-8dcb-a4eb773520d0",
   "metadata": {},
   "outputs": [
    {
     "name": "stdout",
     "output_type": "stream",
     "text": [
      "Before the function call\n",
      "Hello! i im elijah onyango guys\n",
      "i now know what you are talking about\n",
      "After the function call\n"
     ]
    }
   ],
   "source": [
    "def decorator(s):\n",
    "    def wrapper():\n",
    "        print(\"Before the function call\")\n",
    "        s()\n",
    "        print(\"After the function call\")\n",
    "    return wrapper\n",
    "\n",
    "@decorator\n",
    "def say_hello():\n",
    "    print(\"Hello! i im elijah onyango guys\")\n",
    "    print(\"i now know what you are talking about\")\n",
    "\n",
    "say_hello()\n"
   ]
  },
  {
   "cell_type": "code",
   "execution_count": 121,
   "id": "8dbe9c3d-f050-48e4-bcc0-5a646d38f0cc",
   "metadata": {},
   "outputs": [
    {
     "name": "stdout",
     "output_type": "stream",
     "text": [
      "hello i know now you know me very well guys\n",
      "have a lovely day guys\n",
      "ELIJAH OUMA ONYANGO\n"
     ]
    }
   ],
   "source": [
    "def decorator(p):\n",
    "    def name():\n",
    "        p()\n",
    "        print(\"ELIJAH OUMA ONYANGO\")\n",
    "        \n",
    "    return name\n",
    "@decorator\n",
    "def say():\n",
    "    print(\"hello i know now you know me very well guys\")\n",
    "    print(\"have a lovely day guys\")\n",
    "say()\n"
   ]
  },
  {
   "cell_type": "code",
   "execution_count": null,
   "id": "c66c8a6d-697e-46a5-b853-f452d44ff6a1",
   "metadata": {},
   "outputs": [],
   "source": [
    "# Key Benefits of Functions\n",
    "### Code Reusability: Write once, use multiple times.\n",
    "### Modularity: Break down complex problems.\n",
    "### Ease of Maintenance: Update logic in one place.\n",
    "### Improved Readability: Logical separation of concerns."
   ]
  }
 ],
 "metadata": {
  "kernelspec": {
   "display_name": "Python 3 (ipykernel)",
   "language": "python",
   "name": "python3"
  },
  "language_info": {
   "codemirror_mode": {
    "name": "ipython",
    "version": 3
   },
   "file_extension": ".py",
   "mimetype": "text/x-python",
   "name": "python",
   "nbconvert_exporter": "python",
   "pygments_lexer": "ipython3",
   "version": "3.12.4"
  }
 },
 "nbformat": 4,
 "nbformat_minor": 5
}
