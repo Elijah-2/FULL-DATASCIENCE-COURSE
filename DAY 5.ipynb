{
 "cells": [
  {
   "cell_type": "markdown",
   "id": "ef420542-c838-42c4-8cca-e185d8e944ca",
   "metadata": {},
   "source": [
    "# TUPLES AND LIST"
   ]
  },
  {
   "cell_type": "markdown",
   "id": "5d50bf15-9b7e-4ddd-9fad-015c95fbacce",
   "metadata": {},
   "source": [
    "# 1. BASICS ?\n",
    "# LIST \n",
    "### Mutable (can be changed after creation).\n",
    "### Defined using square brackets: my_list = [1, 2, 3].\n"
   ]
  },
  {
   "cell_type": "markdown",
   "id": "c217ed83-12a7-4e1e-8733-becafe2dfa55",
   "metadata": {},
   "source": [
    "# TUPLES\n",
    "### Immutable (cannot be changed after creation).\n",
    "### Defined using parentheses: my_tuple = (1, 2, 3)."
   ]
  },
  {
   "cell_type": "markdown",
   "id": "d0db30a5-9559-44bd-a5ed-9ebffb6ac500",
   "metadata": {},
   "source": [
    "# 2 INDEXING AND SLICING "
   ]
  },
  {
   "cell_type": "markdown",
   "id": "d534e284-4a75-423e-8893-b84389206099",
   "metadata": {},
   "source": [
    "### Access elements by their position (index starts at 0)."
   ]
  },
  {
   "cell_type": "code",
   "execution_count": 7,
   "id": "8b3b0d81-6010-4e4c-9b27-58474924f870",
   "metadata": {},
   "outputs": [
    {
     "name": "stdout",
     "output_type": "stream",
     "text": [
      "10\n",
      "40\n"
     ]
    }
   ],
   "source": [
    "my_list = [10, 20, 30, 40]\n",
    "print(my_list[0])  # 10\n",
    "print(my_list[-1])  # 40 (last element)\n"
   ]
  },
  {
   "cell_type": "markdown",
   "id": "02baf9a0-263d-4090-a16b-2572fc4d7e6d",
   "metadata": {},
   "source": [
    "### Slice portions of a list or tuple"
   ]
  },
  {
   "cell_type": "code",
   "execution_count": 10,
   "id": "1dc28eec-f0cb-43ed-86f6-46ec3bf60c3f",
   "metadata": {},
   "outputs": [
    {
     "name": "stdout",
     "output_type": "stream",
     "text": [
      "[2, 3, 4]\n",
      "[1, 2, 3]\n",
      "[1, 3, 5]\n"
     ]
    }
   ],
   "source": [
    "my_list = [1, 2, 3, 4, 5]\n",
    "print(my_list[1:4])  # [2, 3, 4]\n",
    "print(my_list[:3])   # [1, 2, 3]\n",
    "print(my_list[::2])  # [1, 3, 5]\n"
   ]
  },
  {
   "cell_type": "markdown",
   "id": "546ce942-bad3-44fd-8039-8adc28f142a1",
   "metadata": {},
   "source": [
    "# 3. Key List Methods"
   ]
  },
  {
   "cell_type": "markdown",
   "id": "bb0cb804-3910-42c2-94c5-e4ae1ee7404c",
   "metadata": {},
   "source": [
    "### Adding Elements"
   ]
  },
  {
   "cell_type": "markdown",
   "id": "1839850e-e5ec-4400-8312-05228f7dd548",
   "metadata": {},
   "source": [
    "### a) append(): Add an item to the end."
   ]
  },
  {
   "cell_type": "code",
   "execution_count": 17,
   "id": "1c0b7d43-8a82-4aaa-aedc-6cb9a9df2abb",
   "metadata": {},
   "outputs": [],
   "source": [
    "my_list.append(50)\n"
   ]
  },
  {
   "cell_type": "code",
   "execution_count": 19,
   "id": "c5b2a157-e2ba-4a4f-adca-179f8e6dac19",
   "metadata": {},
   "outputs": [
    {
     "data": {
      "text/plain": [
       "[1, 2, 3, 4, 5, 50]"
      ]
     },
     "execution_count": 19,
     "metadata": {},
     "output_type": "execute_result"
    }
   ],
   "source": [
    "my_list"
   ]
  },
  {
   "cell_type": "markdown",
   "id": "bf823dc9-9da8-42bd-9eef-315933cc8b9d",
   "metadata": {},
   "source": [
    "### b) extend(): Add multiple items."
   ]
  },
  {
   "cell_type": "code",
   "execution_count": 22,
   "id": "65fc5209-5503-4c2c-a5e8-0332839d73c4",
   "metadata": {},
   "outputs": [],
   "source": [
    "my_list.extend([60, 70])\n"
   ]
  },
  {
   "cell_type": "code",
   "execution_count": 24,
   "id": "377cda6c-db6c-4695-a7d6-fbac7a340aaf",
   "metadata": {},
   "outputs": [
    {
     "data": {
      "text/plain": [
       "[1, 2, 3, 4, 5, 50, 60, 70]"
      ]
     },
     "execution_count": 24,
     "metadata": {},
     "output_type": "execute_result"
    }
   ],
   "source": [
    "my_list"
   ]
  },
  {
   "cell_type": "markdown",
   "id": "71076894-3650-4247-af76-95d14da2457f",
   "metadata": {},
   "source": [
    "### c) insert(): Add an item at a specific index."
   ]
  },
  {
   "cell_type": "code",
   "execution_count": 27,
   "id": "b70a9379-32a4-4a48-9ff3-61195010b12c",
   "metadata": {},
   "outputs": [],
   "source": [
    "my_list.insert(1, 15)\n"
   ]
  },
  {
   "cell_type": "code",
   "execution_count": 29,
   "id": "1732ef1a-7500-4b1d-9f4d-aba4e3562ab5",
   "metadata": {},
   "outputs": [
    {
     "data": {
      "text/plain": [
       "[1, 15, 2, 3, 4, 5, 50, 60, 70]"
      ]
     },
     "execution_count": 29,
     "metadata": {},
     "output_type": "execute_result"
    }
   ],
   "source": [
    "my_list"
   ]
  },
  {
   "cell_type": "markdown",
   "id": "632f9bef-5c25-4174-8a88-27457499ee38",
   "metadata": {},
   "source": [
    "##  Removing Elements"
   ]
  },
  {
   "cell_type": "markdown",
   "id": "b1dd0c58-d184-44dd-9821-e0b739ef1113",
   "metadata": {},
   "source": [
    "### a) pop(): Remove an item by index and return it."
   ]
  },
  {
   "cell_type": "code",
   "execution_count": 33,
   "id": "07965f15-053b-4a9c-af2c-389bc04643b6",
   "metadata": {},
   "outputs": [
    {
     "data": {
      "text/plain": [
       "2"
      ]
     },
     "execution_count": 33,
     "metadata": {},
     "output_type": "execute_result"
    }
   ],
   "source": [
    "my_list.pop(2)\n"
   ]
  },
  {
   "cell_type": "code",
   "execution_count": 35,
   "id": "7a2212dc-aa30-4a2b-9158-cad2a50a4769",
   "metadata": {},
   "outputs": [
    {
     "data": {
      "text/plain": [
       "[1, 15, 3, 4, 5, 50, 60, 70]"
      ]
     },
     "execution_count": 35,
     "metadata": {},
     "output_type": "execute_result"
    }
   ],
   "source": [
    "my_list"
   ]
  },
  {
   "cell_type": "markdown",
   "id": "37331118-8d7e-4e7d-9d53-0d3020256f69",
   "metadata": {},
   "source": [
    "### b) remove(): Remove the first occurrence of a value."
   ]
  },
  {
   "cell_type": "code",
   "execution_count": 40,
   "id": "0c74b192-39af-4bc3-bec4-4a5db12aaef1",
   "metadata": {},
   "outputs": [],
   "source": [
    "my_list.remove(60)\n"
   ]
  },
  {
   "cell_type": "code",
   "execution_count": 42,
   "id": "6b61d32a-4e53-4778-be49-65262b465778",
   "metadata": {},
   "outputs": [
    {
     "data": {
      "text/plain": [
       "[1, 15, 3, 4, 5, 50, 70]"
      ]
     },
     "execution_count": 42,
     "metadata": {},
     "output_type": "execute_result"
    }
   ],
   "source": [
    "my_list"
   ]
  },
  {
   "cell_type": "markdown",
   "id": "ad1bf61a-516f-4b2b-84a2-e526961947d2",
   "metadata": {},
   "source": [
    "### c) clear(): Remove all elements"
   ]
  },
  {
   "cell_type": "code",
   "execution_count": null,
   "id": "7e83161b-a62a-4f99-aab2-f740f7b02224",
   "metadata": {},
   "outputs": [],
   "source": [
    "my_list.clear()\n"
   ]
  },
  {
   "cell_type": "markdown",
   "id": "62ed7fef-3103-46e4-abdd-7b7af1f79171",
   "metadata": {},
   "source": [
    "## other methods \n",
    "### \n",
    "\n",
    "## index(): Find the index of a value.\n",
    "## count(): Count occurrences of a value.\n",
    "## reverse(): Reverse the list in place.\n",
    "## sort(): Sort the list.\n"
   ]
  },
  {
   "cell_type": "code",
   "execution_count": 47,
   "id": "aab01227-1b42-458b-a907-b3e4152bec84",
   "metadata": {},
   "outputs": [
    {
     "data": {
      "text/plain": [
       "1"
      ]
     },
     "execution_count": 47,
     "metadata": {},
     "output_type": "execute_result"
    }
   ],
   "source": [
    "my_list.count(4)"
   ]
  },
  {
   "cell_type": "code",
   "execution_count": 49,
   "id": "1b2d6cb3-136f-46c5-9936-d956a8cc7d94",
   "metadata": {},
   "outputs": [],
   "source": [
    "my_list.extend([1,3,3,3,3,3,3,3,4])"
   ]
  },
  {
   "cell_type": "code",
   "execution_count": 51,
   "id": "9e1b6a16-008f-4ba1-8777-18290f9a78df",
   "metadata": {},
   "outputs": [
    {
     "data": {
      "text/plain": [
       "8"
      ]
     },
     "execution_count": 51,
     "metadata": {},
     "output_type": "execute_result"
    }
   ],
   "source": [
    "my_list.count(3)"
   ]
  },
  {
   "cell_type": "markdown",
   "id": "ad02955d-176d-4eb9-a539-63c3df65d93f",
   "metadata": {},
   "source": [
    "## this is how to count items in the list"
   ]
  },
  {
   "cell_type": "markdown",
   "id": "b73b2ed9-8a86-4b2a-8d13-f1304ebde9ae",
   "metadata": {},
   "source": [
    "# 4. Tuple Operations\n",
    "### Tuples don’t have methods like append or remove since they are immutable.\n",
    "### You can access elements and slice them just like lists"
   ]
  },
  {
   "cell_type": "markdown",
   "id": "de48084d-a575-48e9-99bb-e14c008aba01",
   "metadata": {},
   "source": [
    "### EXAMPLES "
   ]
  },
  {
   "cell_type": "code",
   "execution_count": 59,
   "id": "1052d600-4edb-46ee-a398-a3574f53b621",
   "metadata": {},
   "outputs": [
    {
     "name": "stdout",
     "output_type": "stream",
     "text": [
      "10\n",
      "(20, 30)\n"
     ]
    }
   ],
   "source": [
    "my_tuple = (10, 20, 30)\n",
    "print(my_tuple[0])  # 10\n",
    "print(my_tuple[1:3])  # (20, 30)\n"
   ]
  },
  {
   "cell_type": "markdown",
   "id": "b03fd024-0987-498b-a40e-686e75949be6",
   "metadata": {},
   "source": [
    "# 5.Iterating Over Lists and Tuples"
   ]
  },
  {
   "cell_type": "markdown",
   "id": "612a16d1-eff5-4eb0-8723-5bedbc48917e",
   "metadata": {},
   "source": [
    "### Use a for loop to iterate through elements"
   ]
  },
  {
   "cell_type": "code",
   "execution_count": 67,
   "id": "73a0a51a-c10a-4923-89df-41c84a94fffd",
   "metadata": {},
   "outputs": [
    {
     "name": "stdout",
     "output_type": "stream",
     "text": [
      "1 15 3 4 5 50 70 1 3 3 3 3 3 3 3 4 "
     ]
    }
   ],
   "source": [
    "for item in my_list:\n",
    "    print(item,end=\" \")\n"
   ]
  },
  {
   "cell_type": "markdown",
   "id": "0ff27d2c-cd54-4a97-a687-0f12b4f9ba6d",
   "metadata": {},
   "source": [
    "# 6.Unpacking"
   ]
  },
  {
   "cell_type": "markdown",
   "id": "4332e762-725a-4f46-bb4d-174ff3bdb481",
   "metadata": {},
   "source": [
    "### Unpack values directly into variables"
   ]
  },
  {
   "cell_type": "code",
   "execution_count": 71,
   "id": "95ef049b-8be3-4ef5-b6a6-0e1cf06f176b",
   "metadata": {},
   "outputs": [
    {
     "name": "stdout",
     "output_type": "stream",
     "text": [
      "1 2 3\n"
     ]
    }
   ],
   "source": [
    "my_tuple = (1, 2, 3)\n",
    "a, b, c = my_tuple\n",
    "print(a, b, c)  # 1, 2, 3\n"
   ]
  },
  {
   "cell_type": "markdown",
   "id": "7392d2ad-8d1a-4585-ac9e-e4173f19a667",
   "metadata": {},
   "source": [
    "# 7.Membership\n",
    "### Check if an item exists in a list or tuple using in or not in"
   ]
  },
  {
   "cell_type": "code",
   "execution_count": 74,
   "id": "3804d17c-4515-4e71-8c56-68c71573ba07",
   "metadata": {},
   "outputs": [
    {
     "name": "stdout",
     "output_type": "stream",
     "text": [
      "False\n",
      "True\n"
     ]
    }
   ],
   "source": [
    "print(20 in my_list)  # True\n",
    "print(50 not in my_tuple)  # True\n"
   ]
  },
  {
   "cell_type": "markdown",
   "id": "d77a312a-17aa-4776-b7a1-a8426639c459",
   "metadata": {},
   "source": [
    "# 8. Nested Lists and Tuples\n",
    "### Lists and tuples can contain other lists or tuples"
   ]
  },
  {
   "cell_type": "code",
   "execution_count": 77,
   "id": "e2874769-2fd5-41c3-9c10-42d4e617467c",
   "metadata": {},
   "outputs": [
    {
     "name": "stdout",
     "output_type": "stream",
     "text": [
      "2\n"
     ]
    }
   ],
   "source": [
    "nested_list = [[1, 2], [3, 4]]\n",
    "print(nested_list[0][1])  # 2\n"
   ]
  },
  {
   "cell_type": "markdown",
   "id": "985e7fa0-c73b-4737-8539-2b21b78aa776",
   "metadata": {},
   "source": [
    "# 9 Conversion "
   ]
  },
  {
   "cell_type": "markdown",
   "id": "967f28fd-f2fd-4bff-b4e2-501c74fb34ea",
   "metadata": {},
   "source": [
    "### Convert between lists and tuples\n",
    "### my_list = list(my_tuple)\n",
    "### my_tuple = tuple(my_list)\n",
    "\n",
    " "
   ]
  },
  {
   "cell_type": "code",
   "execution_count": 81,
   "id": "399d2135-ab3f-4b9a-9e11-ba02cc6aebf2",
   "metadata": {},
   "outputs": [],
   "source": [
    "my_list = list(my_tuple)\n",
    "my_tuple = tuple(my_list)\n"
   ]
  },
  {
   "cell_type": "code",
   "execution_count": 83,
   "id": "0a8a1f71-00db-4743-836f-8164e471f1da",
   "metadata": {},
   "outputs": [
    {
     "data": {
      "text/plain": [
       "list"
      ]
     },
     "execution_count": 83,
     "metadata": {},
     "output_type": "execute_result"
    }
   ],
   "source": [
    "type(my_list)"
   ]
  },
  {
   "cell_type": "code",
   "execution_count": 85,
   "id": "0033840f-a0d6-4583-a569-ce39260506cc",
   "metadata": {},
   "outputs": [
    {
     "data": {
      "text/plain": [
       "tuple"
      ]
     },
     "execution_count": 85,
     "metadata": {},
     "output_type": "execute_result"
    }
   ],
   "source": [
    "type(my_tuple)"
   ]
  },
  {
   "cell_type": "markdown",
   "id": "8b5969c6-bf6f-40c1-9466-f355d108479e",
   "metadata": {},
   "source": [
    "# 10. Common Built-in Functions\n",
    "## len(): Get the number of elements.\n",
    "## min(), max(): Get the smallest or largest element.\n",
    "## sum(): Calculate the sum of numeric elements.\n",
    "## sorted(): Return a sorted version of a list or tuple."
   ]
  },
  {
   "cell_type": "code",
   "execution_count": 88,
   "id": "8fdd6a9b-6e6f-455b-8e50-cfe219a18cca",
   "metadata": {},
   "outputs": [
    {
     "data": {
      "text/plain": [
       "3"
      ]
     },
     "execution_count": 88,
     "metadata": {},
     "output_type": "execute_result"
    }
   ],
   "source": [
    "len(my_list)"
   ]
  },
  {
   "cell_type": "code",
   "execution_count": 90,
   "id": "96433e4f-dacc-4150-ba0f-27122c3a8320",
   "metadata": {},
   "outputs": [],
   "source": [
    "number=sorted(my_list)"
   ]
  },
  {
   "cell_type": "code",
   "execution_count": 92,
   "id": "95411fd1-9cff-47d7-9f89-9733d64466c9",
   "metadata": {},
   "outputs": [
    {
     "data": {
      "text/plain": [
       "[1, 2, 3]"
      ]
     },
     "execution_count": 92,
     "metadata": {},
     "output_type": "execute_result"
    }
   ],
   "source": [
    "number"
   ]
  },
  {
   "cell_type": "code",
   "execution_count": 94,
   "id": "965fa3b8-1a18-4ff0-b990-5983aa19bf69",
   "metadata": {},
   "outputs": [],
   "source": [
    "x=sum(my_list)"
   ]
  },
  {
   "cell_type": "code",
   "execution_count": 96,
   "id": "bbbb8eff-1c22-47cd-b864-7298fcd6baec",
   "metadata": {},
   "outputs": [
    {
     "data": {
      "text/plain": [
       "6"
      ]
     },
     "execution_count": 96,
     "metadata": {},
     "output_type": "execute_result"
    }
   ],
   "source": [
    "x"
   ]
  },
  {
   "cell_type": "code",
   "execution_count": 100,
   "id": "f3e2798c-9912-4ddc-bd73-07c2e1ddc7e6",
   "metadata": {},
   "outputs": [
    {
     "data": {
      "text/plain": [
       "3"
      ]
     },
     "execution_count": 100,
     "metadata": {},
     "output_type": "execute_result"
    }
   ],
   "source": [
    "max(my_list)"
   ]
  },
  {
   "cell_type": "code",
   "execution_count": 102,
   "id": "9fcd0d38-c23a-4c4e-9be0-4e9534a67392",
   "metadata": {},
   "outputs": [
    {
     "data": {
      "text/plain": [
       "1"
      ]
     },
     "execution_count": 102,
     "metadata": {},
     "output_type": "execute_result"
    }
   ],
   "source": [
    "min(my_list)"
   ]
  },
  {
   "cell_type": "code",
   "execution_count": 104,
   "id": "d7b0624f-c91f-42cd-a647-903cfe265ae4",
   "metadata": {},
   "outputs": [
    {
     "data": {
      "text/plain": [
       "[1, 2, 3]"
      ]
     },
     "execution_count": 104,
     "metadata": {},
     "output_type": "execute_result"
    }
   ],
   "source": [
    "sorted(my_list)"
   ]
  },
  {
   "cell_type": "code",
   "execution_count": null,
   "id": "39ea001d-854b-4424-854e-975f3bd7dc1b",
   "metadata": {},
   "outputs": [],
   "source": []
  }
 ],
 "metadata": {
  "kernelspec": {
   "display_name": "Python 3 (ipykernel)",
   "language": "python",
   "name": "python3"
  },
  "language_info": {
   "codemirror_mode": {
    "name": "ipython",
    "version": 3
   },
   "file_extension": ".py",
   "mimetype": "text/x-python",
   "name": "python",
   "nbconvert_exporter": "python",
   "pygments_lexer": "ipython3",
   "version": "3.12.4"
  }
 },
 "nbformat": 4,
 "nbformat_minor": 5
}
