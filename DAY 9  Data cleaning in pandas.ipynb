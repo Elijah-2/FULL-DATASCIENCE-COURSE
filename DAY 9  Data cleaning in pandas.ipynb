{
 "cells": [
  {
   "cell_type": "markdown",
   "id": "958160b4-c3b3-4773-9cc2-4d3391b69a5e",
   "metadata": {},
   "source": [
    "# Data Cleaning Concepts in Pandas with Examples"
   ]
  },
  {
   "cell_type": "markdown",
   "id": "26979cf9-52dc-4caa-b076-0f4e71214140",
   "metadata": {},
   "source": [
    "### Data cleaning is a crucial step in data analysis. Pandas provides powerful tools to handle missing values, correct data formats, remove duplicates, and more. Here’s a breakdown of key concepts with examples:"
   ]
  },
  {
   "cell_type": "markdown",
   "id": "005582b8-c6cb-4872-ad2b-e3b3a10e3341",
   "metadata": {},
   "source": [
    "## 1. Handling Missing Data"
   ]
  },
  {
   "cell_type": "markdown",
   "id": "6a90694c-5eb8-4a0f-b32f-1e5e8f5bcfa8",
   "metadata": {},
   "source": [
    "### a. Identifying Missing Data"
   ]
  },
  {
   "cell_type": "markdown",
   "id": "587eb6e7-b320-44b4-ad98-53e9fcccb5b4",
   "metadata": {},
   "source": [
    "#### isnull() / notnull(): Detect missing values (NaN)."
   ]
  },
  {
   "cell_type": "code",
   "execution_count": null,
   "id": "e496db44-ba01-4779-88c5-3895c2f68595",
   "metadata": {},
   "outputs": [],
   "source": [
    "import pandas as pd\n",
    "data = {'Name': ['Alice', 'Bob', None], 'Age': [25, None, 30]}\n",
    "df = pd.DataFrame(data)\n",
    "\n",
    "print(df.isnull())  # Shows True where data is missing\n"
   ]
  },
  {
   "cell_type": "code",
   "execution_count": null,
   "id": "ebef3f22-9ae9-4395-aa00-1a10dc08a023",
   "metadata": {},
   "outputs": [],
   "source": [
    "df.notnull()"
   ]
  },
  {
   "cell_type": "markdown",
   "id": "2c1eee9b-9b1c-4744-a0e2-fba565a809b3",
   "metadata": {},
   "source": [
    "### The above is how to detect values  in dataset"
   ]
  },
  {
   "cell_type": "markdown",
   "id": "92966da2-69bf-47ca-b480-ef8f6ef4480a",
   "metadata": {},
   "source": [
    "## b. Removing Missing Data"
   ]
  },
  {
   "cell_type": "markdown",
   "id": "1245733c-a2fc-460e-af14-3dedf65cfc16",
   "metadata": {},
   "source": [
    "#### dropna(): Removes rows or columns with missing values."
   ]
  },
  {
   "cell_type": "code",
   "execution_count": null,
   "id": "a8085a04-603c-4ec0-97fe-ef14840b0117",
   "metadata": {},
   "outputs": [],
   "source": [
    "df_cleaned = df.dropna()  # Drops rows with any NaN\n"
   ]
  },
  {
   "cell_type": "markdown",
   "id": "53dd40cd-48ee-45a4-804e-180d1c7361c6",
   "metadata": {},
   "source": [
    "## c. Filling Missing Data"
   ]
  },
  {
   "cell_type": "markdown",
   "id": "e85381fa-b084-41ca-b865-ca7fca050eaa",
   "metadata": {},
   "source": [
    "### fillna(): Replace missing values with a specific value."
   ]
  },
  {
   "cell_type": "code",
   "execution_count": null,
   "id": "55a89acd-2abb-4913-9df4-99f44ede09ca",
   "metadata": {},
   "outputs": [],
   "source": [
    "df_filled = df.fillna({'Name': 'Unknown', 'Age': df['Age'].mean()})\n"
   ]
  },
  {
   "cell_type": "code",
   "execution_count": null,
   "id": "2cee6e84-6617-4644-a1f9-21d6bd7c6646",
   "metadata": {},
   "outputs": [],
   "source": [
    "df_filled.isnull()"
   ]
  },
  {
   "cell_type": "code",
   "execution_count": null,
   "id": "5c7418bd-2aa2-48ea-8217-e5c4d76485fc",
   "metadata": {},
   "outputs": [],
   "source": [
    "df_filled.notnull()"
   ]
  },
  {
   "cell_type": "markdown",
   "id": "dbd342b3-d62f-4da2-a5e6-eeaffd6c8129",
   "metadata": {},
   "source": [
    "# 2. Removing Duplicates"
   ]
  },
  {
   "cell_type": "markdown",
   "id": "727b0681-3deb-448a-9b85-ede6f8ab2a93",
   "metadata": {},
   "source": [
    "## a. Identifying Duplicates"
   ]
  },
  {
   "cell_type": "markdown",
   "id": "463bab38-d7ca-4e81-bae5-5d124c78638e",
   "metadata": {},
   "source": [
    "### duplicated(): Returns True for duplicate rows."
   ]
  },
  {
   "cell_type": "code",
   "execution_count": null,
   "id": "d9f27ade-0151-41da-8e90-89b985ce2fd4",
   "metadata": {},
   "outputs": [],
   "source": [
    "df = pd.DataFrame({'Name': ['Alice', 'Bob', 'Alice'], 'Age': [25, 30, 25]})\n",
    "print(df.duplicated())\n",
    "\n"
   ]
  },
  {
   "cell_type": "markdown",
   "id": "8956ce19-98c4-4392-b5a0-b0035fc6e0ab",
   "metadata": {},
   "source": [
    "## b. Removing Duplicates"
   ]
  },
  {
   "cell_type": "markdown",
   "id": "d7427d74-937a-4183-b1b7-44be07edd555",
   "metadata": {},
   "source": [
    "### drop_duplicates(): Removes duplicate rows."
   ]
  },
  {
   "cell_type": "code",
   "execution_count": null,
   "id": "1fad0d10-4952-458c-a0b2-ffae56df4fa7",
   "metadata": {},
   "outputs": [],
   "source": [
    "df_unique = df.drop_duplicates()\n"
   ]
  },
  {
   "cell_type": "markdown",
   "id": "c8209c1c-c1b4-4541-8687-bb48b9e8d182",
   "metadata": {},
   "source": [
    "# 3. Data Type Conversion"
   ]
  },
  {
   "cell_type": "markdown",
   "id": "363f1a3c-5051-4494-b04d-b9cbb6d1c2f1",
   "metadata": {},
   "source": [
    "### a. Checking Data Types"
   ]
  },
  {
   "cell_type": "markdown",
   "id": "aa7aeb30-f00a-402b-88a1-22791f963078",
   "metadata": {},
   "source": [
    "#### dtypes: View data types of columns"
   ]
  },
  {
   "cell_type": "code",
   "execution_count": null,
   "id": "3d1f7431-9627-42e5-ab1d-9bb0ae91c15a",
   "metadata": {},
   "outputs": [],
   "source": [
    "print(df.dtypes)\n"
   ]
  },
  {
   "cell_type": "markdown",
   "id": "94f42a0f-2f87-406f-93ca-e22476f1b2e6",
   "metadata": {},
   "source": [
    "### b. Converting Data Types"
   ]
  },
  {
   "cell_type": "markdown",
   "id": "19d1d446-31c5-48d5-baa0-38dabc6d9f03",
   "metadata": {},
   "source": [
    "### astype(): Convert column data types."
   ]
  },
  {
   "cell_type": "code",
   "execution_count": null,
   "id": "3dae9964-9bb9-4847-a81c-b8746f202ff4",
   "metadata": {},
   "outputs": [],
   "source": [
    "df['Age'] = df['Age'].astype(float)  # Convert Age to float\n"
   ]
  },
  {
   "cell_type": "markdown",
   "id": "c0a1333c-ec84-4bb0-b1a9-7c8efaf56950",
   "metadata": {},
   "source": [
    "# 4. Renaming Columns and Indexes"
   ]
  },
  {
   "cell_type": "markdown",
   "id": "071974c8-11bb-4c1a-b6c1-e966e7851e19",
   "metadata": {},
   "source": [
    "### a. Renaming Columns"
   ]
  },
  {
   "cell_type": "markdown",
   "id": "4b68cd18-7298-4878-b272-e27d8d2ed654",
   "metadata": {},
   "source": [
    "### rename(): Change column names."
   ]
  },
  {
   "cell_type": "code",
   "execution_count": null,
   "id": "872097c5-cc7a-41dd-9d95-0985d6d68d98",
   "metadata": {},
   "outputs": [],
   "source": [
    "df = df.rename(columns={'Name': 'Full Name', 'Age': 'Years'})\n"
   ]
  },
  {
   "cell_type": "code",
   "execution_count": null,
   "id": "2ad1fc51-8cbc-433c-8f13-13389a2629ca",
   "metadata": {},
   "outputs": [],
   "source": [
    "df"
   ]
  },
  {
   "cell_type": "markdown",
   "id": "d7c607ba-47de-4f64-bc11-ce63af4a96a9",
   "metadata": {},
   "source": [
    "# 5. String Operations"
   ]
  },
  {
   "cell_type": "markdown",
   "id": "50fb7242-5b24-4974-85cb-c0ccfad4f075",
   "metadata": {},
   "source": [
    "### a. Removing Whitespace"
   ]
  },
  {
   "cell_type": "markdown",
   "id": "dccdcccf-5360-4185-b58e-740c662f351f",
   "metadata": {},
   "source": [
    "### str.strip(): Remove leading/trailing spaces"
   ]
  },
  {
   "cell_type": "code",
   "execution_count": null,
   "id": "648c6fa2-9342-4f42-a17c-16446028ee69",
   "metadata": {},
   "outputs": [],
   "source": [
    "df['Full Name'] = df['Full Name'].str.strip()\n"
   ]
  },
  {
   "cell_type": "code",
   "execution_count": null,
   "id": "5375d6c0-c2f2-4ea2-8507-ee35cce204fb",
   "metadata": {},
   "outputs": [],
   "source": [
    "df"
   ]
  },
  {
   "cell_type": "markdown",
   "id": "cf6264fa-cc35-46ad-83df-f6e4bcd3f9f9",
   "metadata": {},
   "source": [
    "# b. Changing Case"
   ]
  },
  {
   "cell_type": "markdown",
   "id": "76939c16-b9c7-4bd8-873d-7c3d9e175dcc",
   "metadata": {},
   "source": [
    "### str.lower() / str.upper(): Convert to lower/upper case."
   ]
  },
  {
   "cell_type": "code",
   "execution_count": null,
   "id": "3662e629-1dec-4ad2-806c-d6937157058b",
   "metadata": {},
   "outputs": [],
   "source": [
    "df['Full Name'] = df['Full Name'].str.lower()\n"
   ]
  },
  {
   "cell_type": "code",
   "execution_count": null,
   "id": "e0e0b307-0f21-4882-b11e-ac045107a3a7",
   "metadata": {},
   "outputs": [],
   "source": [
    "df"
   ]
  },
  {
   "cell_type": "code",
   "execution_count": null,
   "id": "cb8c1a43-dcb3-48d0-9da0-0172e5f3835a",
   "metadata": {},
   "outputs": [],
   "source": [
    "df['Full Name'] = df['Full Name'].str.upper()\n"
   ]
  },
  {
   "cell_type": "code",
   "execution_count": null,
   "id": "6945773e-79ca-4684-90ac-5035f4fc49b8",
   "metadata": {},
   "outputs": [],
   "source": [
    "df"
   ]
  },
  {
   "cell_type": "markdown",
   "id": "ea78a9af-54da-4641-9fa3-a2cdfbb54615",
   "metadata": {},
   "source": [
    "# c. Replacing Substrings"
   ]
  },
  {
   "cell_type": "markdown",
   "id": "48c4bc4d-acfb-47bf-82f2-198e62c039cb",
   "metadata": {},
   "source": [
    "### str.replace(): Replace parts of strings."
   ]
  },
  {
   "cell_type": "code",
   "execution_count": null,
   "id": "492ed50f-4e7b-44db-a769-e2f48062efca",
   "metadata": {},
   "outputs": [],
   "source": [
    "df['Full Name'] = df['Full Name'].str.replace('alice', 'Alicia')\n"
   ]
  },
  {
   "cell_type": "code",
   "execution_count": null,
   "id": "9da1c2ba-eabb-41a1-9fbb-cb08cf85fc94",
   "metadata": {},
   "outputs": [],
   "source": [
    "df"
   ]
  },
  {
   "cell_type": "markdown",
   "id": "545589e7-f7fc-42c0-997d-7518ce60bb0b",
   "metadata": {},
   "source": [
    "# 6. Filtering Data"
   ]
  },
  {
   "cell_type": "markdown",
   "id": "af40aee2-1f46-4749-a5af-16f3d530d85e",
   "metadata": {},
   "source": [
    "### a. Conditional Filtering"
   ]
  },
  {
   "cell_type": "markdown",
   "id": "16ed79b1-642c-4d7c-967d-4ab835e21d9a",
   "metadata": {},
   "source": [
    "### Use conditions to filter rows."
   ]
  },
  {
   "cell_type": "code",
   "execution_count": null,
   "id": "c9922b9e-cd8f-47b7-a914-7938e1a74cbe",
   "metadata": {},
   "outputs": [],
   "source": [
    "df_filtered = df[df['df_filtered = df.query('Years > 25')\n",
    "Years'] > 25]  # Filter rows where Age > 25\n"
   ]
  },
  {
   "cell_type": "markdown",
   "id": "77fe81f3-4b92-4774-8acd-4628814919a5",
   "metadata": {},
   "source": [
    "### b. Using query()"
   ]
  },
  {
   "cell_type": "code",
   "execution_count": null,
   "id": "4546c4f0-68b1-481a-9369-15b5f9b05c9f",
   "metadata": {},
   "outputs": [],
   "source": [
    "df_filtered = df.query('Years > 25')\n"
   ]
  },
  {
   "cell_type": "markdown",
   "id": "27bb6544-eaac-4063-b922-4db2c5bab474",
   "metadata": {},
   "source": [
    "# 7. Handling Outliers\n",
    "### a. Using Z-Score or IQR\n",
    "#### Remove outliers based on statistical methods."
   ]
  },
  {
   "cell_type": "code",
   "execution_count": null,
   "id": "cdfe4093-0192-4202-8012-2ba3f01e07a9",
   "metadata": {},
   "outputs": [],
   "source": [
    "from scipy import stats\n",
    "df_no_outliers = df[(np.abs(stats.zscore(df['Years'])) < 3)]\n"
   ]
  },
  {
   "cell_type": "markdown",
   "id": "4f35e864-3623-4866-98c0-dec1038a1a16",
   "metadata": {},
   "source": [
    "# 8. Replacing Values"
   ]
  },
  {
   "cell_type": "markdown",
   "id": "27442799-02d1-450e-aba0-ab1fa0974d17",
   "metadata": {},
   "source": [
    "### a. Replace Specific Values"
   ]
  },
  {
   "cell_type": "markdown",
   "id": "1c4c0ed1-aa49-45d6-b220-2ba131042389",
   "metadata": {},
   "source": [
    "### replace(): Substitute specific values"
   ]
  },
  {
   "cell_type": "code",
   "execution_count": null,
   "id": "e66e81e3-4030-4c2f-bda2-119963dd89f0",
   "metadata": {},
   "outputs": [],
   "source": [
    "df['Years'] = df['Years'].replace(30, 29)  # Replace 30 with 29\n"
   ]
  },
  {
   "cell_type": "markdown",
   "id": "3a6ec8b5-3428-4690-8bb9-df2bfd06b543",
   "metadata": {},
   "source": [
    "# 9. Merging and Joining DataFrames\n",
    "## a. Merging DataFrames\n",
    "## merge(): Combine two DataFrames based on a key.\n"
   ]
  },
  {
   "cell_type": "code",
   "execution_count": null,
   "id": "fd934977-49bf-4e3c-8327-3b7ff9429b6b",
   "metadata": {},
   "outputs": [],
   "source": [
    "df1 = pd.DataFrame({'ID': [1, 2], 'Name': ['Alice', 'Bob']})\n",
    "df2 = pd.DataFrame({'ID': [1, 2], 'Age': [25, 30]})\n",
    "df_merged = pd.merge(df1, df2, on='ID')\n"
   ]
  },
  {
   "cell_type": "markdown",
   "id": "b559b707-4c1e-4f40-bb40-2f396f29c9d4",
   "metadata": {},
   "source": [
    "# 10. Resetting and Setting Index\n",
    "### 10. a. Reset Index\n"
   ]
  },
  {
   "cell_type": "code",
   "execution_count": null,
   "id": "7578ab0b-0566-4d41-8c31-6b97fa1b116e",
   "metadata": {},
   "outputs": [],
   "source": [
    "df_reset = df.reset_index(drop=True)\n"
   ]
  },
  {
   "cell_type": "markdown",
   "id": "446071f4-dfe9-4e84-ad1c-4dac473f36e9",
   "metadata": {},
   "source": [
    "### b. Set Index"
   ]
  },
  {
   "cell_type": "markdown",
   "id": "179b9032-f4dd-47bb-a14a-37fd23777b77",
   "metadata": {},
   "source": [
    "### set_index(): Set a specific column as the index."
   ]
  },
  {
   "cell_type": "code",
   "execution_count": null,
   "id": "6a06e58d-2471-43fb-b9dc-aea6a0af29bf",
   "metadata": {},
   "outputs": [],
   "source": [
    "df_indexed = df.set_index('Full Name')\n"
   ]
  },
  {
   "cell_type": "markdown",
   "id": "e4dbf620-5bd9-48e0-ab26-1f82004f8ec7",
   "metadata": {},
   "source": [
    "# 11. Sorting Data\n",
    "## a. Sorting by Column"
   ]
  },
  {
   "cell_type": "markdown",
   "id": "f6e1e08d-f2ff-496b-b7ec-e1ae2177ef11",
   "metadata": {},
   "source": [
    "## sort_values(): Sort DataFrame by column."
   ]
  },
  {
   "cell_type": "code",
   "execution_count": null,
   "id": "98079a8c-b73e-42d5-905f-5088168a653e",
   "metadata": {},
   "outputs": [],
   "source": [
    "df_sorted = df.sort_values(by='Years', ascending=False)\n"
   ]
  },
  {
   "cell_type": "markdown",
   "id": "5bd5d987-127c-4e36-8a45-1bdac64be74a",
   "metadata": {},
   "source": [
    "## b. Sorting by Index"
   ]
  },
  {
   "cell_type": "markdown",
   "id": "cfde582f-9e7b-4e88-8906-e47db51270bf",
   "metadata": {},
   "source": [
    "#### sort_index(): Sort DataFrame by index."
   ]
  },
  {
   "cell_type": "code",
   "execution_count": null,
   "id": "a779344d-27d5-4de0-b931-b99d01fcbe5d",
   "metadata": {},
   "outputs": [],
   "source": [
    "df_sorted_index = df.sort_index()\n"
   ]
  },
  {
   "cell_type": "markdown",
   "id": "b760deb2-6d08-41f6-9e13-20323a2d26a7",
   "metadata": {},
   "source": [
    "# 12. Applying Functions"
   ]
  },
  {
   "cell_type": "markdown",
   "id": "b5ce4dda-1bb4-428e-914b-9dd7ac509220",
   "metadata": {},
   "source": [
    "## a. Applying Functions to Columns"
   ]
  },
  {
   "cell_type": "markdown",
   "id": "fc62472d-8f93-4746-93e5-cbbc076496d3",
   "metadata": {},
   "source": [
    "#### apply(): Apply custom functions to columns."
   ]
  },
  {
   "cell_type": "code",
   "execution_count": null,
   "id": "90bdfd63-3576-42ec-9cf3-14f55fd9dca7",
   "metadata": {},
   "outputs": [],
   "source": [
    "df['Years'] = df['Years'].apply(lambda x: x + 1)  # Increase Age by 1\n"
   ]
  },
  {
   "cell_type": "markdown",
   "id": "42fe4f55-3f63-4a93-9ba2-4dd675b3606a",
   "metadata": {},
   "source": [
    "# 13. Grouping Data"
   ]
  },
  {
   "cell_type": "markdown",
   "id": "f6e50354-ffa3-4310-b63b-06481463c37f",
   "metadata": {},
   "source": [
    "### a. Grouping by Column"
   ]
  },
  {
   "cell_type": "markdown",
   "id": "af2098f6-3a8d-4146-886c-1c1324de3b2f",
   "metadata": {},
   "source": [
    "### groupby(): Aggregate data based on column values."
   ]
  },
  {
   "cell_type": "code",
   "execution_count": null,
   "id": "e5530bca-410e-447b-9053-2fcfcd1da989",
   "metadata": {},
   "outputs": [],
   "source": [
    "df_grouped = df.groupby('Years').count()\n"
   ]
  },
  {
   "cell_type": "markdown",
   "id": "960c4d92-25fc-41cc-b8e8-943ae05a7b10",
   "metadata": {},
   "source": [
    "### 14. Pivot Tables\n",
    "### a. Creating Pivot Tables"
   ]
  },
  {
   "cell_type": "markdown",
   "id": "6636e094-0085-413a-aaa1-eba7553faadd",
   "metadata": {},
   "source": [
    "\n",
    "### pivot_table(): Summarize data in a tabular format.\n",
    "### python\n",
    "### Copy\n",
    "### Edit\n",
    "\n"
   ]
  },
  {
   "cell_type": "code",
   "execution_count": null,
   "id": "562130b4-a79f-4772-a1a6-f359051d3bf4",
   "metadata": {},
   "outputs": [],
   "source": [
    "\n",
    "df_pivot = df.pivot_table(values='Years', index='Full Name', aggfunc='mean')\n"
   ]
  },
  {
   "cell_type": "markdown",
   "id": "c8f36f7f-6472-4aa6-95d4-e3932729f0b6",
   "metadata": {},
   "source": [
    "# 15. Exporting and Importing Data"
   ]
  },
  {
   "cell_type": "markdown",
   "id": "3206b889-a350-4ce8-a805-a7e0ce715f66",
   "metadata": {},
   "source": [
    "### a. Reading Data"
   ]
  },
  {
   "cell_type": "markdown",
   "id": "ee56e44d-3b3f-43f5-9e41-ab59259f2870",
   "metadata": {},
   "source": [
    "### read_csv(): Load data from a CSV file."
   ]
  },
  {
   "cell_type": "code",
   "execution_count": null,
   "id": "95e6bf7f-46d1-49dc-bb6c-e5a7d022b22b",
   "metadata": {},
   "outputs": [],
   "source": [
    "df = pd.read_csv('data.csv')\n"
   ]
  },
  {
   "cell_type": "markdown",
   "id": "dcf18596-f671-45d2-8390-569ec480bd16",
   "metadata": {},
   "source": [
    "### b. Exporting Data"
   ]
  },
  {
   "cell_type": "markdown",
   "id": "85ceea82-3852-41ec-8076-93f8e0ac2718",
   "metadata": {},
   "source": [
    "### to_csv(): Save DataFrame to CSV."
   ]
  },
  {
   "cell_type": "code",
   "execution_count": null,
   "id": "418c66ec-492f-4e00-baf7-735bb1c5d4fe",
   "metadata": {},
   "outputs": [],
   "source": [
    "df.to_csv('cleaned_data.csv', index=False)\n"
   ]
  }
 ],
 "metadata": {
  "kernelspec": {
   "display_name": "Python 3 (ipykernel)",
   "language": "python",
   "name": "python3"
  },
  "language_info": {
   "codemirror_mode": {
    "name": "ipython",
    "version": 3
   },
   "file_extension": ".py",
   "mimetype": "text/x-python",
   "name": "python",
   "nbconvert_exporter": "python",
   "pygments_lexer": "ipython3",
   "version": "3.12.4"
  }
 },
 "nbformat": 4,
 "nbformat_minor": 5
}
