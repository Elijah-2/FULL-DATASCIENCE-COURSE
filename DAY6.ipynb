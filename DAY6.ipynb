{
 "cells": [
  {
   "cell_type": "markdown",
   "id": "cd6cd698-c782-48d9-a2f9-7acfa87bd1a8",
   "metadata": {},
   "source": [
    "# Dictionaries"
   ]
  },
  {
   "cell_type": "markdown",
   "id": "d9337364-bef3-4b27-954e-dcc17a497067",
   "metadata": {},
   "source": [
    "### Dictionaries are mutable, unordered collections that store data as key-value pairs."
   ]
  },
  {
   "cell_type": "markdown",
   "id": "6f8f7b28-9ecd-4cc2-b454-adddb0d6628b",
   "metadata": {},
   "source": [
    "## Key Concepts"
   ]
  },
  {
   "cell_type": "markdown",
   "id": "bc555d0d-f5dd-45f0-aae2-e759c8455a01",
   "metadata": {},
   "source": [
    "#### 1. Creation:"
   ]
  },
  {
   "cell_type": "code",
   "execution_count": 6,
   "id": "f2570177-ed17-49d2-a2ca-dd4a01926f3a",
   "metadata": {},
   "outputs": [],
   "source": [
    "my_dict = {\"key1\": \"value1\", \"key2\": \"value2\"}\n"
   ]
  },
  {
   "cell_type": "markdown",
   "id": "8f356978-caed-4764-bd11-f249fdd0fdfa",
   "metadata": {},
   "source": [
    "### 2.Accessing Values:"
   ]
  },
  {
   "cell_type": "markdown",
   "id": "13ef6847-e071-47fa-b90a-00e22cb7024a",
   "metadata": {},
   "source": [
    "#### By key: my_dict[\"key1\"]\n",
    "#### Using get(): my_dict.get(\"key1\", \"default_value\") (avoids KeyError)"
   ]
  },
  {
   "cell_type": "code",
   "execution_count": 13,
   "id": "fd4288ec-ab1a-4ceb-9f54-c33839e20dff",
   "metadata": {},
   "outputs": [
    {
     "data": {
      "text/plain": [
       "dict_keys(['key1', 'key2'])"
      ]
     },
     "execution_count": 13,
     "metadata": {},
     "output_type": "execute_result"
    }
   ],
   "source": [
    "my_dict.keys()"
   ]
  },
  {
   "cell_type": "code",
   "execution_count": 17,
   "id": "9612fed2-bfed-4dca-85e8-4ee446942b48",
   "metadata": {},
   "outputs": [
    {
     "data": {
      "text/plain": [
       "'value1'"
      ]
     },
     "execution_count": 17,
     "metadata": {},
     "output_type": "execute_result"
    }
   ],
   "source": [
    "my_dict.get(\"key1\")"
   ]
  },
  {
   "cell_type": "markdown",
   "id": "c662a011-9e08-4060-b775-b1738911d415",
   "metadata": {},
   "source": [
    "## 2.Adding/Updating Items"
   ]
  },
  {
   "cell_type": "code",
   "execution_count": 36,
   "id": "7b6c1873-ea4f-4bc5-99f7-caf93f2f756a",
   "metadata": {},
   "outputs": [],
   "source": [
    "my_dict[\"key1\"] = \"value1\"  # Add or update key-value pair\n"
   ]
  },
  {
   "cell_type": "code",
   "execution_count": 26,
   "id": "3fd81410-09f5-486d-a01f-5b6066dfea3b",
   "metadata": {},
   "outputs": [
    {
     "data": {
      "text/plain": [
       "{'key1': 'value1', 'key2': 'value2', 'key3': 'value3', 'key4': 'value4'}"
      ]
     },
     "execution_count": 26,
     "metadata": {},
     "output_type": "execute_result"
    }
   ],
   "source": [
    "my_dict"
   ]
  },
  {
   "cell_type": "markdown",
   "id": "646fedd3-50ff-4bf7-8a48-1a797c7376b5",
   "metadata": {},
   "source": [
    "## 3 .Deleting Items:"
   ]
  },
  {
   "cell_type": "markdown",
   "id": "e42d099c-a57d-4bd0-bd5b-dca4bf302b6c",
   "metadata": {},
   "source": [
    "### Using del: del my_dict[\"key1\"]\n",
    "### Using pop(): my_dict.pop(\"key1\", default_value)"
   ]
  },
  {
   "cell_type": "code",
   "execution_count": 30,
   "id": "fb4f1c6e-b117-434e-952c-931c8d36a4f8",
   "metadata": {},
   "outputs": [],
   "source": [
    "del my_dict[\"key1\"]"
   ]
  },
  {
   "cell_type": "code",
   "execution_count": 32,
   "id": "9822d79d-69c3-43b4-bb2a-0b0715cbf93d",
   "metadata": {},
   "outputs": [
    {
     "data": {
      "text/plain": [
       "{'key2': 'value2', 'key3': 'value3', 'key4': 'value4'}"
      ]
     },
     "execution_count": 32,
     "metadata": {},
     "output_type": "execute_result"
    }
   ],
   "source": [
    "my_dict"
   ]
  },
  {
   "cell_type": "code",
   "execution_count": 40,
   "id": "fa3efc23-3ed8-4b38-a00e-21a8e92868a5",
   "metadata": {},
   "outputs": [
    {
     "data": {
      "text/plain": [
       "'value1'"
      ]
     },
     "execution_count": 40,
     "metadata": {},
     "output_type": "execute_result"
    }
   ],
   "source": [
    "my_dict.pop(\"key1\")"
   ]
  },
  {
   "cell_type": "code",
   "execution_count": 42,
   "id": "95b588ce-cdbe-4ffd-ba68-77c31f6c23e6",
   "metadata": {},
   "outputs": [
    {
     "data": {
      "text/plain": [
       "{'key2': 'value2', 'key3': 'value3', 'key4': 'value4'}"
      ]
     },
     "execution_count": 42,
     "metadata": {},
     "output_type": "execute_result"
    }
   ],
   "source": [
    "my_dict"
   ]
  },
  {
   "cell_type": "markdown",
   "id": "3ac5e16d-82f5-45a9-b22d-367b35243eec",
   "metadata": {},
   "source": [
    "## 5.Iteration:"
   ]
  },
  {
   "cell_type": "markdown",
   "id": "d1c09f8c-f664-4b37-b11e-0343037431a9",
   "metadata": {},
   "source": [
    "### Keys: for key in my_dict\n",
    "### Values: for value in my_dict.values()\n",
    "### Key-Value Pairs: for key, value in my_dict.items()"
   ]
  },
  {
   "cell_type": "code",
   "execution_count": 48,
   "id": "17ee6651-e3d8-4e3c-934e-a68207267474",
   "metadata": {},
   "outputs": [
    {
     "name": "stdout",
     "output_type": "stream",
     "text": [
      "key2\n",
      "key3\n",
      "key4\n"
     ]
    }
   ],
   "source": [
    "for key in my_dict:\n",
    "    print(key)"
   ]
  },
  {
   "cell_type": "code",
   "execution_count": 52,
   "id": "5e1aa3f8-88d0-4819-946a-b023aa8ce861",
   "metadata": {},
   "outputs": [
    {
     "name": "stdout",
     "output_type": "stream",
     "text": [
      "value2\n",
      "value3\n",
      "value4\n"
     ]
    }
   ],
   "source": [
    "for value in my_dict.values():\n",
    "    print(value)"
   ]
  },
  {
   "cell_type": "code",
   "execution_count": 54,
   "id": "f262949e-0697-4cf5-9287-91506937b32e",
   "metadata": {},
   "outputs": [
    {
     "name": "stdout",
     "output_type": "stream",
     "text": [
      "key2 value2\n",
      "key3 value3\n",
      "key4 value4\n"
     ]
    }
   ],
   "source": [
    "for key, value in my_dict.items():\n",
    "    print(key,value)"
   ]
  },
  {
   "cell_type": "markdown",
   "id": "300d47b8-7c09-456b-9661-3c0814d5e464",
   "metadata": {},
   "source": [
    "## 6. Methods: "
   ]
  },
  {
   "cell_type": "markdown",
   "id": "6001a71e-3206-4bd3-b86f-1f6681b983aa",
   "metadata": {},
   "source": [
    "#### keys(): Returns a view object of keys.\n",
    "#### values(): Returns a view object of values.\n",
    "#### items(): Returns a view object of key-value pairs.\n",
    "#### clear(): Removes all items.\n",
    "#### copy(): Creates a shallow copy.\n",
    "#### update(): Merges two dictionaries."
   ]
  },
  {
   "cell_type": "code",
   "execution_count": 58,
   "id": "5b184cdd-817b-4172-9357-e18cc457af60",
   "metadata": {},
   "outputs": [
    {
     "data": {
      "text/plain": [
       "dict_keys(['key2', 'key3', 'key4'])"
      ]
     },
     "execution_count": 58,
     "metadata": {},
     "output_type": "execute_result"
    }
   ],
   "source": [
    "my_dict.keys()"
   ]
  },
  {
   "cell_type": "code",
   "execution_count": 60,
   "id": "0be271a9-70e0-4789-ac17-94c7caab64b0",
   "metadata": {},
   "outputs": [
    {
     "data": {
      "text/plain": [
       "dict_values(['value2', 'value3', 'value4'])"
      ]
     },
     "execution_count": 60,
     "metadata": {},
     "output_type": "execute_result"
    }
   ],
   "source": [
    "my_dict.values()"
   ]
  },
  {
   "cell_type": "code",
   "execution_count": 62,
   "id": "ec6d8463-9117-4065-9aac-e5de244f92b5",
   "metadata": {},
   "outputs": [
    {
     "data": {
      "text/plain": [
       "dict_items([('key2', 'value2'), ('key3', 'value3'), ('key4', 'value4')])"
      ]
     },
     "execution_count": 62,
     "metadata": {},
     "output_type": "execute_result"
    }
   ],
   "source": [
    "my_dict.items()"
   ]
  },
  {
   "cell_type": "code",
   "execution_count": 64,
   "id": "5a63e177-907d-40b7-b0fa-13ff460f5e4b",
   "metadata": {},
   "outputs": [],
   "source": [
    "my_dict1=my_dict.copy()"
   ]
  },
  {
   "cell_type": "code",
   "execution_count": 66,
   "id": "8da878af-ae01-4ec9-9536-452564857027",
   "metadata": {},
   "outputs": [
    {
     "data": {
      "text/plain": [
       "{'key2': 'value2', 'key3': 'value3', 'key4': 'value4'}"
      ]
     },
     "execution_count": 66,
     "metadata": {},
     "output_type": "execute_result"
    }
   ],
   "source": [
    "my_dict1"
   ]
  },
  {
   "cell_type": "code",
   "execution_count": 68,
   "id": "4730d839-c91c-4f16-97cd-c0d219df36df",
   "metadata": {},
   "outputs": [],
   "source": [
    "my_dict2={\"name\":\"mike\",\"age\":24}"
   ]
  },
  {
   "cell_type": "code",
   "execution_count": 80,
   "id": "f010f01c-8a7c-473f-a49f-381c9cc7d422",
   "metadata": {},
   "outputs": [],
   "source": [
    "my_dict.update(my_dict2)"
   ]
  },
  {
   "cell_type": "code",
   "execution_count": 82,
   "id": "5eb7540c-d60d-45d8-9563-8c2e48f267d3",
   "metadata": {},
   "outputs": [
    {
     "data": {
      "text/plain": [
       "{'key2': 'value2',\n",
       " 'key3': 'value3',\n",
       " 'key4': 'value4',\n",
       " 'name': 'mike',\n",
       " 'age': 24}"
      ]
     },
     "execution_count": 82,
     "metadata": {},
     "output_type": "execute_result"
    }
   ],
   "source": [
    "my_dict"
   ]
  },
  {
   "cell_type": "markdown",
   "id": "34508001-bafd-4c21-9304-9e4848990dca",
   "metadata": {},
   "source": [
    "## 7 .Dictionary Comprehension:"
   ]
  },
  {
   "cell_type": "markdown",
   "id": "fc120fbd-4836-4c11-a1d7-d88389fe43e9",
   "metadata": {},
   "source": [
    "### examples"
   ]
  },
  {
   "cell_type": "code",
   "execution_count": 89,
   "id": "471a94c7-ca8b-47c6-a7c7-36088a9dec47",
   "metadata": {},
   "outputs": [],
   "source": [
    "squared = {x: x**2 for x in range(5)}\n"
   ]
  },
  {
   "cell_type": "code",
   "execution_count": 91,
   "id": "b9341151-0568-4ada-af55-7057fa8c839f",
   "metadata": {},
   "outputs": [
    {
     "data": {
      "text/plain": [
       "{0: 0, 1: 1, 2: 4, 3: 9, 4: 16}"
      ]
     },
     "execution_count": 91,
     "metadata": {},
     "output_type": "execute_result"
    }
   ],
   "source": [
    "squared"
   ]
  },
  {
   "cell_type": "code",
   "execution_count": 99,
   "id": "15db8868-c551-4129-8dbb-8702f6a7862d",
   "metadata": {},
   "outputs": [],
   "source": [
    "cube={x:x**3 for x in range(20)}"
   ]
  },
  {
   "cell_type": "code",
   "execution_count": 101,
   "id": "8cfd3727-3306-4a18-a506-fd87416efbea",
   "metadata": {},
   "outputs": [
    {
     "data": {
      "text/plain": [
       "dict_keys([0, 1, 2, 3, 4, 5, 6, 7, 8, 9, 10, 11, 12, 13, 14, 15, 16, 17, 18, 19])"
      ]
     },
     "execution_count": 101,
     "metadata": {},
     "output_type": "execute_result"
    }
   ],
   "source": [
    "cube.keys()"
   ]
  },
  {
   "cell_type": "code",
   "execution_count": 103,
   "id": "12dc400d-1cd1-4b1a-8078-54e0837d4c6e",
   "metadata": {},
   "outputs": [
    {
     "data": {
      "text/plain": [
       "dict_values([0, 1, 8, 27, 64, 125, 216, 343, 512, 729, 1000, 1331, 1728, 2197, 2744, 3375, 4096, 4913, 5832, 6859])"
      ]
     },
     "execution_count": 103,
     "metadata": {},
     "output_type": "execute_result"
    }
   ],
   "source": [
    "cube.values()"
   ]
  },
  {
   "cell_type": "markdown",
   "id": "945f2e81-5390-42fa-8627-08131ac47ef4",
   "metadata": {},
   "source": [
    "## 8.Nested Dictionaries "
   ]
  },
  {
   "cell_type": "code",
   "execution_count": 106,
   "id": "2878960d-949d-4edd-8c32-49b73aa56281",
   "metadata": {},
   "outputs": [],
   "source": [
    "nested_dict = {\"outer\": {\"inner_key\": \"inner_value\"}}\n"
   ]
  },
  {
   "cell_type": "code",
   "execution_count": 110,
   "id": "534db174-a857-45fa-a45f-b996a573d528",
   "metadata": {},
   "outputs": [
    {
     "data": {
      "text/plain": [
       "dict_keys(['outer'])"
      ]
     },
     "execution_count": 110,
     "metadata": {},
     "output_type": "execute_result"
    }
   ],
   "source": [
    "nested_dict.keys()"
   ]
  },
  {
   "cell_type": "code",
   "execution_count": 112,
   "id": "dc97ac47-65e3-4499-bf08-3afcc83c00d3",
   "metadata": {},
   "outputs": [
    {
     "data": {
      "text/plain": [
       "dict_values([{'inner_key': 'inner_value'}])"
      ]
     },
     "execution_count": 112,
     "metadata": {},
     "output_type": "execute_result"
    }
   ],
   "source": [
    "nested_dict.values()"
   ]
  },
  {
   "cell_type": "code",
   "execution_count": 114,
   "id": "68808830-98a9-41e3-ac89-f214a0fda700",
   "metadata": {},
   "outputs": [
    {
     "name": "stdout",
     "output_type": "stream",
     "text": [
      "outer {'inner_key': 'inner_value'}\n"
     ]
    }
   ],
   "source": [
    "for x,y in nested_dict.items():\n",
    "    print(x,y)"
   ]
  },
  {
   "cell_type": "markdown",
   "id": "746e5483-c54a-4060-8c3f-fc7056bc1515",
   "metadata": {},
   "source": [
    "# Sets"
   ]
  },
  {
   "cell_type": "markdown",
   "id": "e3475af2-22df-4666-8739-cc445cb6eea2",
   "metadata": {},
   "source": [
    "### Sets are unordered collections of unique elements."
   ]
  },
  {
   "cell_type": "markdown",
   "id": "fc74820f-0833-4763-9a65-0e627908b988",
   "metadata": {},
   "source": [
    "### Key Concepts"
   ]
  },
  {
   "cell_type": "markdown",
   "id": "2f074f50-bdb4-4c16-9201-b31c263c52a0",
   "metadata": {},
   "source": [
    "#### 1.Creation:"
   ]
  },
  {
   "cell_type": "markdown",
   "id": "1719abab-9450-4eb6-b79d-972e780884c5",
   "metadata": {},
   "source": [
    "#### Using {}: my_set = {1, 2, 3}\n",
    "#### Using set(): my_set = set([1, 2, 3])"
   ]
  },
  {
   "cell_type": "code",
   "execution_count": 125,
   "id": "e142c450-ea16-4b69-9372-4fc4489e94b6",
   "metadata": {},
   "outputs": [],
   "source": [
    "my_set = {1, 2, 3}"
   ]
  },
  {
   "cell_type": "markdown",
   "id": "8bfea94d-1764-40a4-b209-9908b8a787b4",
   "metadata": {},
   "source": [
    "## 2.Adding Items:"
   ]
  },
  {
   "cell_type": "code",
   "execution_count": 127,
   "id": "6cdb337d-e1d1-4e0a-8361-d462ddcbccbe",
   "metadata": {},
   "outputs": [],
   "source": [
    "my_set.add(4)\n"
   ]
  },
  {
   "cell_type": "code",
   "execution_count": 129,
   "id": "b096c8b5-2b2b-4636-9091-b2483d24e41c",
   "metadata": {},
   "outputs": [
    {
     "data": {
      "text/plain": [
       "{1, 2, 3, 4}"
      ]
     },
     "execution_count": 129,
     "metadata": {},
     "output_type": "execute_result"
    }
   ],
   "source": [
    "my_set"
   ]
  },
  {
   "cell_type": "code",
   "execution_count": 131,
   "id": "22c367de-57e7-4e74-af82-f05c8318a929",
   "metadata": {},
   "outputs": [],
   "source": [
    "my_set.add(5)"
   ]
  },
  {
   "cell_type": "code",
   "execution_count": 133,
   "id": "1019bad5-ed32-4dd1-8cb8-75df9d8ba3d2",
   "metadata": {},
   "outputs": [
    {
     "data": {
      "text/plain": [
       "{1, 2, 3, 4, 5}"
      ]
     },
     "execution_count": 133,
     "metadata": {},
     "output_type": "execute_result"
    }
   ],
   "source": [
    "my_set"
   ]
  },
  {
   "cell_type": "markdown",
   "id": "773cbb91-f84b-4933-b7ae-a34e59fba59f",
   "metadata": {},
   "source": [
    "## 3.Removing Items:"
   ]
  },
  {
   "cell_type": "markdown",
   "id": "7466dcd8-9ff6-451f-b93e-a191452d427c",
   "metadata": {},
   "source": [
    "####  Using remove(): my_set.remove(4) (raises KeyError if not found)\n",
    "####  Using discard(): my_set.discard(4) (no error if not found)"
   ]
  },
  {
   "cell_type": "code",
   "execution_count": 137,
   "id": "93355758-5768-4dba-b496-ec0dfe805f03",
   "metadata": {},
   "outputs": [],
   "source": [
    "my_set.remove(4)"
   ]
  },
  {
   "cell_type": "code",
   "execution_count": 139,
   "id": "dec3ce7a-a7cb-4148-bf7a-55a54f21daea",
   "metadata": {},
   "outputs": [
    {
     "data": {
      "text/plain": [
       "{1, 2, 3, 5}"
      ]
     },
     "execution_count": 139,
     "metadata": {},
     "output_type": "execute_result"
    }
   ],
   "source": [
    "my_set"
   ]
  },
  {
   "cell_type": "code",
   "execution_count": 141,
   "id": "d7483ce8-352d-4e82-ac1d-cdcfac9cbafe",
   "metadata": {},
   "outputs": [],
   "source": [
    "my_set.discard(4)"
   ]
  },
  {
   "cell_type": "code",
   "execution_count": 143,
   "id": "901b503d-9e0f-42f3-af0b-a14e37964f43",
   "metadata": {},
   "outputs": [],
   "source": [
    "my_set.discard(5)"
   ]
  },
  {
   "cell_type": "code",
   "execution_count": 145,
   "id": "184e2a7e-2ce0-4a3f-b6c9-c3554998f9a3",
   "metadata": {},
   "outputs": [
    {
     "data": {
      "text/plain": [
       "{1, 2, 3}"
      ]
     },
     "execution_count": 145,
     "metadata": {},
     "output_type": "execute_result"
    }
   ],
   "source": [
    "my_set"
   ]
  },
  {
   "cell_type": "markdown",
   "id": "ea46e6ab-391c-45e2-b3c4-1ff5002a11a7",
   "metadata": {},
   "source": [
    "## 4.Set Operations:"
   ]
  },
  {
   "cell_type": "markdown",
   "id": "8f0399d0-a4e7-439b-b928-1fb5dfeea334",
   "metadata": {},
   "source": [
    "#### Union: set1 | set2 or set1.union(set2)\n",
    "#### Intersection: set1 & set2 or set1.intersection(set2)\n",
    "#### Difference: set1 - set2 or set1.difference(set2)\n",
    "#### Symmetric Difference: set1 ^ set2 or set1.symmetric_difference(set2)"
   ]
  },
  {
   "cell_type": "code",
   "execution_count": 151,
   "id": "6a7f2bac-9ccc-49ff-bd0e-8ef97b91956c",
   "metadata": {},
   "outputs": [],
   "source": [
    "set1={1,3,4,5,6,8,5}\n",
    "set2={10,4,5,2,7,9,2,3,5,6}\n"
   ]
  },
  {
   "cell_type": "code",
   "execution_count": 153,
   "id": "8dc6d2f2-8acb-411e-bcbc-735cb5b5885b",
   "metadata": {},
   "outputs": [],
   "source": [
    "set3=set1.union(set2)"
   ]
  },
  {
   "cell_type": "code",
   "execution_count": 155,
   "id": "69562267-9f1d-45a1-bc35-5707aec30ddf",
   "metadata": {},
   "outputs": [
    {
     "data": {
      "text/plain": [
       "{1, 2, 3, 4, 5, 6, 7, 8, 9, 10}"
      ]
     },
     "execution_count": 155,
     "metadata": {},
     "output_type": "execute_result"
    }
   ],
   "source": [
    "set3"
   ]
  },
  {
   "cell_type": "code",
   "execution_count": 157,
   "id": "943b4f72-0ec3-45c6-b86d-bf85cb2d9446",
   "metadata": {},
   "outputs": [],
   "source": [
    "set4= set1.intersection(set2)"
   ]
  },
  {
   "cell_type": "code",
   "execution_count": 159,
   "id": "0d828c37-fd8e-4cb5-9ca0-9bf44f439ce5",
   "metadata": {},
   "outputs": [
    {
     "data": {
      "text/plain": [
       "{3, 4, 5, 6}"
      ]
     },
     "execution_count": 159,
     "metadata": {},
     "output_type": "execute_result"
    }
   ],
   "source": [
    "set4"
   ]
  },
  {
   "cell_type": "code",
   "execution_count": 163,
   "id": "ce0ff310-a9d2-496b-9f3b-d4004704f80a",
   "metadata": {},
   "outputs": [],
   "source": [
    "set5=set1.difference(set2)"
   ]
  },
  {
   "cell_type": "code",
   "execution_count": 165,
   "id": "86118bdd-e392-472e-84db-8310dd13e127",
   "metadata": {},
   "outputs": [
    {
     "data": {
      "text/plain": [
       "{1, 8}"
      ]
     },
     "execution_count": 165,
     "metadata": {},
     "output_type": "execute_result"
    }
   ],
   "source": [
    "set5"
   ]
  },
  {
   "cell_type": "code",
   "execution_count": 167,
   "id": "5e8f3fc7-f86d-4b45-b17d-e8ee173b5a57",
   "metadata": {},
   "outputs": [
    {
     "data": {
      "text/plain": [
       "{1, 2, 7, 8, 9, 10}"
      ]
     },
     "execution_count": 167,
     "metadata": {},
     "output_type": "execute_result"
    }
   ],
   "source": [
    "set1 ^ set2"
   ]
  },
  {
   "cell_type": "markdown",
   "id": "27505a2f-4e9e-4225-b2ff-2d8779e936ef",
   "metadata": {},
   "source": [
    "#### alternatively"
   ]
  },
  {
   "cell_type": "code",
   "execution_count": 170,
   "id": "b43c6e32-f659-40fd-a93b-c98115d333cd",
   "metadata": {},
   "outputs": [
    {
     "data": {
      "text/plain": [
       "{1, 2, 7, 8, 9, 10}"
      ]
     },
     "execution_count": 170,
     "metadata": {},
     "output_type": "execute_result"
    }
   ],
   "source": [
    "set1.symmetric_difference(set2)"
   ]
  },
  {
   "cell_type": "markdown",
   "id": "7b3fc6fb-53d4-4a9a-a4df-41847ccc0f38",
   "metadata": {},
   "source": [
    "## 5.Subset and Superset:"
   ]
  },
  {
   "cell_type": "markdown",
   "id": "f745c144-e09a-413a-8bb6-7cff154df583",
   "metadata": {},
   "source": [
    "### set1.issubset(set2)\n",
    "### set1.issuperset(set2)"
   ]
  },
  {
   "cell_type": "code",
   "execution_count": 173,
   "id": "383739e8-d7b5-42fe-a4a2-195c858916bf",
   "metadata": {},
   "outputs": [
    {
     "data": {
      "text/plain": [
       "False"
      ]
     },
     "execution_count": 173,
     "metadata": {},
     "output_type": "execute_result"
    }
   ],
   "source": [
    "set1.issubset(set2)"
   ]
  },
  {
   "cell_type": "code",
   "execution_count": 175,
   "id": "1cc630a9-c1fc-4f25-9094-7d476fd87303",
   "metadata": {},
   "outputs": [
    {
     "data": {
      "text/plain": [
       "False"
      ]
     },
     "execution_count": 175,
     "metadata": {},
     "output_type": "execute_result"
    }
   ],
   "source": [
    "set1.issuperset(set2)"
   ]
  },
  {
   "cell_type": "markdown",
   "id": "b3de1149-e3f2-45dc-b208-3063f6029689",
   "metadata": {},
   "source": [
    "## 6 Frozensets:\n",
    "### Immutable version of sets.\n",
    "### Created using frozenset() "
   ]
  },
  {
   "cell_type": "code",
   "execution_count": 179,
   "id": "d07d424c-8a57-4aec-b96d-1e0043eb049b",
   "metadata": {},
   "outputs": [],
   "source": [
    "frozen = frozenset([1, 2, 3])\n"
   ]
  },
  {
   "cell_type": "code",
   "execution_count": 181,
   "id": "d80f71f1-fd80-479c-aea8-50c41c88807c",
   "metadata": {},
   "outputs": [
    {
     "data": {
      "text/plain": [
       "frozenset({1, 2, 3})"
      ]
     },
     "execution_count": 181,
     "metadata": {},
     "output_type": "execute_result"
    }
   ],
   "source": [
    "frozen"
   ]
  },
  {
   "cell_type": "markdown",
   "id": "48445a1f-d2bf-4771-82b7-c2d2b17bd664",
   "metadata": {},
   "source": [
    "# 7.Iteration:"
   ]
  },
  {
   "cell_type": "code",
   "execution_count": 184,
   "id": "2556a58c-253c-4e93-aeed-bda76134a94c",
   "metadata": {},
   "outputs": [
    {
     "name": "stdout",
     "output_type": "stream",
     "text": [
      "1\n",
      "2\n",
      "3\n"
     ]
    }
   ],
   "source": [
    "for item in my_set:\n",
    "    print(item)\n"
   ]
  },
  {
   "cell_type": "markdown",
   "id": "e6740e00-2319-4d7a-a721-562fe609af27",
   "metadata": {},
   "source": [
    "# 8.Set Comprehension:"
   ]
  },
  {
   "cell_type": "code",
   "execution_count": 187,
   "id": "a992faa5-1b68-4959-9e37-30d943a9a065",
   "metadata": {},
   "outputs": [
    {
     "data": {
      "text/plain": [
       "{0, 1, 4, 9, 16}"
      ]
     },
     "execution_count": 187,
     "metadata": {},
     "output_type": "execute_result"
    }
   ],
   "source": [
    "squared = {x**2 for x in range(5)}\n",
    "squared"
   ]
  },
  {
   "cell_type": "code",
   "execution_count": 189,
   "id": "2439ce88-af6b-4d9b-b70b-c7b21069cd82",
   "metadata": {},
   "outputs": [
    {
     "data": {
      "text/plain": [
       "{0, 1, 4, 9, 16}"
      ]
     },
     "execution_count": 189,
     "metadata": {},
     "output_type": "execute_result"
    }
   ],
   "source": [
    "squared"
   ]
  },
  {
   "cell_type": "code",
   "execution_count": null,
   "id": "00710683-3b74-429d-91c4-eca008b1f586",
   "metadata": {},
   "outputs": [],
   "source": [
    "#### Use Cases\n",
    "#### Dictionaries:\n",
    "\n",
    "Storing and looking up data efficiently.\n",
    "JSON-like structures.\n",
    "Counting occurrences using keys.\n",
    "Sets:\n",
    "\n",
    "Removing duplicates from a list.\n",
    "Mathematical operations (e.g., unions, intersections).\n",
    "Fast membership tests."
   ]
  }
 ],
 "metadata": {
  "kernelspec": {
   "display_name": "Python 3 (ipykernel)",
   "language": "python",
   "name": "python3"
  },
  "language_info": {
   "codemirror_mode": {
    "name": "ipython",
    "version": 3
   },
   "file_extension": ".py",
   "mimetype": "text/x-python",
   "name": "python",
   "nbconvert_exporter": "python",
   "pygments_lexer": "ipython3",
   "version": "3.12.4"
  }
 },
 "nbformat": 4,
 "nbformat_minor": 5
}
