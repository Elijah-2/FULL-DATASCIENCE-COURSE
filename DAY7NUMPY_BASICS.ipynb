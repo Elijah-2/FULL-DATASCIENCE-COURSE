{
 "cells": [
  {
   "cell_type": "markdown",
   "id": "285d9bd1-a575-4448-94c7-890d618beebf",
   "metadata": {},
   "source": [
    "# NUMPY BASICS"
   ]
  },
  {
   "cell_type": "markdown",
   "id": "fdfd5848-073b-4bda-91d3-a32b8dbe7eb9",
   "metadata": {},
   "source": [
    "## WHAT IS NUMPY ?"
   ]
  },
  {
   "cell_type": "markdown",
   "id": "472a23e2-1db8-49d4-8df7-a0f13591dbf7",
   "metadata": {},
   "source": [
    "### NumPy (Numerical Python) is a Python library used for numerical computations. It provides:\n",
    "\n",
    "### A powerful array object for handling large datasets.\n",
    "### Functions for mathematical operations, linear algebra, statistics, and more.\n"
   ]
  },
  {
   "cell_type": "markdown",
   "id": "25d265bc-71ce-444a-a1b0-7717ffcb04fd",
   "metadata": {},
   "source": [
    "## 2.KEY CONCEPTS IN NUMPY "
   ]
  },
  {
   "cell_type": "markdown",
   "id": "8c00c082-2bed-45da-85da-4a5d7e8d5435",
   "metadata": {},
   "source": [
    "## 2.1 NUMPY ARRAY "
   ]
  },
  {
   "cell_type": "markdown",
   "id": "4232b29e-8065-49ca-a0f5-03633e764e39",
   "metadata": {},
   "source": [
    "## Creating arrays"
   ]
  },
  {
   "cell_type": "code",
   "execution_count": 2,
   "id": "210ca04c-8f8e-4017-b9e6-a038fbd9f98c",
   "metadata": {},
   "outputs": [],
   "source": [
    "import numpy as np"
   ]
  },
  {
   "cell_type": "code",
   "execution_count": 4,
   "id": "db630331-586e-46c3-958e-b65b801df41f",
   "metadata": {},
   "outputs": [
    {
     "name": "stdout",
     "output_type": "stream",
     "text": [
      "Array a: [1 2 3]\n",
      "Array b: [[1 2 3]\n",
      " [4 5 6]]\n"
     ]
    }
   ],
   "source": [
    "a = np.array([1, 2, 3])\n",
    "b = np.array([[1, 2, 3], [4, 5, 6]])\n",
    "print(\"Array a:\", a)  # [1 2 3]\n",
    "print(\"Array b:\", b)  # [[1 2 3] [4 5 6]]"
   ]
  },
  {
   "cell_type": "markdown",
   "id": "88bc9478-a946-4f00-9806-3e4c4c2d5078",
   "metadata": {},
   "source": [
    "# Shape and size"
   ]
  },
  {
   "cell_type": "code",
   "execution_count": 7,
   "id": "2103f772-34cd-4ebc-be82-280117a3c586",
   "metadata": {},
   "outputs": [
    {
     "name": "stdout",
     "output_type": "stream",
     "text": [
      "Shape of b: (2, 3)\n",
      "Size of b: 6\n"
     ]
    }
   ],
   "source": [
    "\n",
    "print(\"Shape of b:\", b.shape)  # (2, 3)\n",
    "print(\"Size of b:\", b.size)    # 6"
   ]
  },
  {
   "cell_type": "markdown",
   "id": "bd8bf1ac-e01a-48d1-9191-f91aa7a78e08",
   "metadata": {},
   "source": [
    "### shape determines the dimensions while the size determines the elements"
   ]
  },
  {
   "cell_type": "markdown",
   "id": "6b631112-b34c-4811-ae16-a690df7b2e8b",
   "metadata": {},
   "source": [
    "# 2. ARRAY OPERATIONS"
   ]
  },
  {
   "cell_type": "code",
   "execution_count": 13,
   "id": "fa5d9e5b-2644-4f2e-9820-3c7d7c5f964d",
   "metadata": {},
   "outputs": [],
   "source": [
    "\n",
    "x = np.array([1, 2, 3])\n",
    "y = np.array([4, 5, 6])"
   ]
  },
  {
   "cell_type": "code",
   "execution_count": 15,
   "id": "92f7bc68-5e59-4732-a3f0-1b22c755af22",
   "metadata": {},
   "outputs": [
    {
     "data": {
      "text/plain": [
       "array([5, 7, 9])"
      ]
     },
     "execution_count": 15,
     "metadata": {},
     "output_type": "execute_result"
    }
   ],
   "source": [
    "x+y"
   ]
  },
  {
   "cell_type": "markdown",
   "id": "9921973d-a34c-43b3-a584-4da93c2e4ea3",
   "metadata": {},
   "source": [
    "## Element-wise operations"
   ]
  },
  {
   "cell_type": "code",
   "execution_count": 18,
   "id": "d784ee70-870b-4327-9b78-3f4d4be9bf89",
   "metadata": {},
   "outputs": [
    {
     "name": "stdout",
     "output_type": "stream",
     "text": [
      "x + y: [5 7 9]\n",
      "x * y: [ 4 10 18]\n"
     ]
    }
   ],
   "source": [
    "print(\"x + y:\", x + y)  # [5 7 9]\n",
    "print(\"x * y:\", x * y)  # [4 10 18]"
   ]
  },
  {
   "cell_type": "markdown",
   "id": "2d093929-cada-4cf9-895b-f0392b25adfa",
   "metadata": {},
   "source": [
    "# Broadcasting"
   ]
  },
  {
   "cell_type": "code",
   "execution_count": 21,
   "id": "3ef3c1bf-e1f3-4327-a5d6-cf4fb0cf832a",
   "metadata": {},
   "outputs": [
    {
     "name": "stdout",
     "output_type": "stream",
     "text": [
      "z + 5: [6 7 8]\n"
     ]
    }
   ],
   "source": [
    "z = np.array([1, 2, 3])\n",
    "print(\"z + 5:\", z + 5)  # [6 7 8]"
   ]
  },
  {
   "cell_type": "markdown",
   "id": "76bbcf32-98a3-40fa-87ab-8e473dde9192",
   "metadata": {},
   "source": [
    "### this is adding value to all the elements in an array"
   ]
  },
  {
   "cell_type": "markdown",
   "id": "dfc4e497-0c59-43eb-b4f9-c30bea4ad353",
   "metadata": {},
   "source": [
    "### another example"
   ]
  },
  {
   "cell_type": "code",
   "execution_count": 25,
   "id": "925b8b96-1b9a-4c5e-923c-4f23a6980e85",
   "metadata": {},
   "outputs": [
    {
     "name": "stdout",
     "output_type": "stream",
     "text": [
      "z+10 [11 12 13]\n"
     ]
    }
   ],
   "source": [
    "print(\"z+10\",z+10)"
   ]
  },
  {
   "cell_type": "markdown",
   "id": "fe912d14-12e1-4d4d-b86d-9edd9eea066c",
   "metadata": {},
   "source": [
    "# Aggregation"
   ]
  },
  {
   "cell_type": "code",
   "execution_count": 28,
   "id": "39790da3-9370-4186-848a-a2ceb69d889f",
   "metadata": {},
   "outputs": [
    {
     "name": "stdout",
     "output_type": "stream",
     "text": [
      "Sum of x: 6\n",
      "Mean of y: 5.0\n"
     ]
    }
   ],
   "source": [
    "print(\"Sum of x:\", np.sum(x))   # 6\n",
    "print(\"Mean of y:\", np.mean(y))  # 5.0"
   ]
  },
  {
   "cell_type": "markdown",
   "id": "537dcdf7-4dd8-4afe-b959-3c0be9781efd",
   "metadata": {},
   "source": [
    "### The above is how to find mean and sum of a given data set given"
   ]
  },
  {
   "cell_type": "markdown",
   "id": "8249f3bc-9141-4c6a-aa21-3224913a112d",
   "metadata": {},
   "source": [
    "# 3. INDEXING AND SLICING"
   ]
  },
  {
   "cell_type": "code",
   "execution_count": 32,
   "id": "26c41c22-756b-4551-8e08-c89d94361fd1",
   "metadata": {},
   "outputs": [],
   "source": [
    "arr = np.array([10, 20, 30, 40, 50])"
   ]
  },
  {
   "cell_type": "markdown",
   "id": "060f9ffc-b53c-4c76-9d8a-95a433097608",
   "metadata": {},
   "source": [
    "### Basic Indexing"
   ]
  },
  {
   "cell_type": "code",
   "execution_count": 36,
   "id": "38e4e0f6-0205-4f1d-82fa-1544c7d64d4f",
   "metadata": {},
   "outputs": [
    {
     "name": "stdout",
     "output_type": "stream",
     "text": [
      "Element at index 2: 30\n"
     ]
    }
   ],
   "source": [
    "\n",
    "print(\"Element at index 2:\", arr[2])  # 30"
   ]
  },
  {
   "cell_type": "code",
   "execution_count": 38,
   "id": "e6becc43-d068-401c-9e10-65b141bd5e61",
   "metadata": {},
   "outputs": [
    {
     "name": "stdout",
     "output_type": "stream",
     "text": [
      "Element at index 3: 40\n"
     ]
    }
   ],
   "source": [
    "print(\"Element at index 3:\", arr[3])  # 40"
   ]
  },
  {
   "cell_type": "markdown",
   "id": "d79f0468-cfa7-4f6c-85a8-2d0bcbe25b7f",
   "metadata": {},
   "source": [
    "## Slicing"
   ]
  },
  {
   "cell_type": "code",
   "execution_count": 41,
   "id": "b6c07d08-68c7-4c56-86f0-807530eecf98",
   "metadata": {},
   "outputs": [
    {
     "name": "stdout",
     "output_type": "stream",
     "text": [
      "Slice from index 1 to 4: [20 30 40]\n"
     ]
    }
   ],
   "source": [
    "print(\"Slice from index 1 to 4:\", arr[1:4])  # [20 30 40]\n"
   ]
  },
  {
   "cell_type": "markdown",
   "id": "951f929d-741f-45ae-9c75-d89671c51619",
   "metadata": {},
   "source": [
    "### this is how to access and slice index from a given data set"
   ]
  },
  {
   "cell_type": "markdown",
   "id": "b253ae64-03f5-4a82-b622-2d163dad9923",
   "metadata": {},
   "source": [
    "### Boolean Indexing"
   ]
  },
  {
   "cell_type": "code",
   "execution_count": 45,
   "id": "188250eb-d258-458e-8785-c4c6cf579013",
   "metadata": {},
   "outputs": [
    {
     "name": "stdout",
     "output_type": "stream",
     "text": [
      "Elements greater than 25: [30 40 50]\n"
     ]
    }
   ],
   "source": [
    "print(\"Elements greater than 25:\", arr[arr > 25])  # [30 40 50]\n"
   ]
  },
  {
   "cell_type": "markdown",
   "id": "b4d6d7a7-47bb-4003-859e-fd7886c47366",
   "metadata": {},
   "source": [
    "### The above is how to determine the largest or the smallest value in an array"
   ]
  },
  {
   "cell_type": "markdown",
   "id": "f3dd4c58-1af1-4476-ad8e-4143d7601a9e",
   "metadata": {},
   "source": [
    "#### Fancy Indexing"
   ]
  },
  {
   "cell_type": "code",
   "execution_count": 50,
   "id": "1453fef8-74a8-47e9-898e-003f25ecf7cc",
   "metadata": {},
   "outputs": [
    {
     "name": "stdout",
     "output_type": "stream",
     "text": [
      "Elements at indices 0, 2, 4: [10 30 50]\n"
     ]
    }
   ],
   "source": [
    "indices = [0, 2, 4]\n",
    "print(\"Elements at indices 0, 2, 4:\", arr[indices])  # [10 30 50]"
   ]
  },
  {
   "cell_type": "markdown",
   "id": "db6ff90e-d954-4b92-a108-a8a4a4ae1e7a",
   "metadata": {},
   "source": [
    "### the above is how to access many indexes at the same time"
   ]
  },
  {
   "cell_type": "markdown",
   "id": "e5e55b59-08fd-43bb-8790-6be3573a27a8",
   "metadata": {},
   "source": [
    "## 4. SHAPE MANIPULATION"
   ]
  },
  {
   "cell_type": "code",
   "execution_count": 54,
   "id": "71250639-3292-4cca-aa8b-ded37e6205c5",
   "metadata": {},
   "outputs": [],
   "source": [
    "matrix = np.array([[1, 2, 3], [4, 5, 6]])\n"
   ]
  },
  {
   "cell_type": "markdown",
   "id": "13c01545-7282-46ab-a93e-321eb6a05ff8",
   "metadata": {},
   "source": [
    "## reshaping"
   ]
  },
  {
   "cell_type": "code",
   "execution_count": 57,
   "id": "c10c495d-d6d7-4e0e-9c27-352d6b07e1f0",
   "metadata": {},
   "outputs": [
    {
     "name": "stdout",
     "output_type": "stream",
     "text": [
      "Reshaped matrix:\n",
      " [[1 2]\n",
      " [3 4]\n",
      " [5 6]]\n"
     ]
    }
   ],
   "source": [
    "reshaped = matrix.reshape(3, 2)\n",
    "print(\"Reshaped matrix:\\n\", reshaped)"
   ]
  },
  {
   "cell_type": "markdown",
   "id": "ce8eb3c5-fff4-415d-8114-a3c94194a79e",
   "metadata": {},
   "source": [
    "### reshaping is modifying the matrix to any choice oone choose so long as the number of elements match"
   ]
  },
  {
   "cell_type": "markdown",
   "id": "e269e923-97a2-4b00-8e58-e158804155e3",
   "metadata": {},
   "source": [
    "## Flattening"
   ]
  },
  {
   "cell_type": "markdown",
   "id": "0271da42-8e15-4f24-b023-b22e8700465e",
   "metadata": {},
   "source": [
    "#### this is how to flatten a matrix in datascience\n"
   ]
  },
  {
   "cell_type": "code",
   "execution_count": 63,
   "id": "4ee66904-78fa-423e-a20f-2e4097ebc0ce",
   "metadata": {},
   "outputs": [
    {
     "name": "stdout",
     "output_type": "stream",
     "text": [
      "Flattened matrix: [1 2 3 4 5 6]\n"
     ]
    }
   ],
   "source": [
    "flat = matrix.flatten()\n",
    "print(\"Flattened matrix:\", flat)  # [1 2 3 4 5 6]\n"
   ]
  },
  {
   "cell_type": "markdown",
   "id": "174c86a7-8454-4ed5-b5d5-00c33c4b9ea3",
   "metadata": {},
   "source": [
    "##  Transposing"
   ]
  },
  {
   "cell_type": "code",
   "execution_count": 67,
   "id": "9092b14e-25bd-4776-bba4-288b1f249d1c",
   "metadata": {},
   "outputs": [
    {
     "name": "stdout",
     "output_type": "stream",
     "text": [
      "Transposed matrix:\n",
      " [[1 4]\n",
      " [2 5]\n",
      " [3 6]]\n"
     ]
    }
   ],
   "source": [
    "transposed = matrix.T\n",
    "print(\"Transposed matrix:\\n\", transposed)"
   ]
  },
  {
   "cell_type": "markdown",
   "id": "39b62358-e2c2-4a45-ae5d-4626c7e4a845",
   "metadata": {},
   "source": [
    "#### the above is how to transpose a matrix in software"
   ]
  },
  {
   "cell_type": "markdown",
   "id": "e25aa06f-fe80-4725-a123-3473ecd1a501",
   "metadata": {},
   "source": [
    "## 5. MATHEMATICAL FUNCTIONS"
   ]
  },
  {
   "cell_type": "markdown",
   "id": "35377913-9951-4374-807a-6b198848b4fb",
   "metadata": {},
   "source": [
    "numbers = np.array([1, 2, 3, 4, 5])"
   ]
  },
  {
   "cell_type": "markdown",
   "id": "327bd211-e81b-430f-941a-43931a653ab0",
   "metadata": {},
   "source": [
    "### Basic Math"
   ]
  },
  {
   "cell_type": "code",
   "execution_count": 74,
   "id": "609ce7e2-443d-411f-9391-e17daeeb3f00",
   "metadata": {},
   "outputs": [
    {
     "name": "stdout",
     "output_type": "stream",
     "text": [
      "Add 5 to each element: [ 6  7  8  9 10]\n",
      "Multiply each element by 2: [ 2  4  6  8 10]\n"
     ]
    }
   ],
   "source": [
    "print(\"Add 5 to each element:\", np.add(numbers, 5))  # [6 7 8 9 10]\n",
    "print(\"Multiply each element by 2:\", np.multiply(numbers, 2))  # [2 4 6 8 10]\n"
   ]
  },
  {
   "cell_type": "markdown",
   "id": "96064310-1d24-4fe4-83f0-4bfbb3b885df",
   "metadata": {},
   "source": [
    "### Statistical Functions"
   ]
  },
  {
   "cell_type": "code",
   "execution_count": 77,
   "id": "e752ad86-5e36-401e-ace8-0fab5b04e27d",
   "metadata": {},
   "outputs": [
    {
     "name": "stdout",
     "output_type": "stream",
     "text": [
      "Mean: 3.0\n",
      "Standard Deviation: 1.4142135623730951\n",
      "Variance: 2.0\n"
     ]
    }
   ],
   "source": [
    "print(\"Mean:\", np.mean(numbers))  # 3.0\n",
    "print(\"Standard Deviation:\", np.std(numbers))  # 1.4142\n",
    "print(\"Variance:\", np.var(numbers))  # 2.0"
   ]
  },
  {
   "cell_type": "markdown",
   "id": "6a50ea2b-b450-4065-b3e1-d8b94c2cb738",
   "metadata": {},
   "source": [
    "### Linear Algebra"
   ]
  },
  {
   "cell_type": "code",
   "execution_count": 80,
   "id": "28cba232-aec9-46c2-bd90-28b68b012727",
   "metadata": {},
   "outputs": [
    {
     "name": "stdout",
     "output_type": "stream",
     "text": [
      "Inverse of matrix:\n",
      " [[-2.   1. ]\n",
      " [ 1.5 -0.5]]\n"
     ]
    }
   ],
   "source": [
    "matrix = np.array([[1, 2], [3, 4]])\n",
    "inverse = np.linalg.inv(matrix)\n",
    "print(\"Inverse of matrix:\\n\", inverse)"
   ]
  },
  {
   "cell_type": "markdown",
   "id": "a674acaa-b9b1-4898-87aa-fc458e5d31b9",
   "metadata": {},
   "source": [
    "### The above is how to determine the inverse of a matrix using numpy and dot product"
   ]
  },
  {
   "cell_type": "code",
   "execution_count": 84,
   "id": "842505b2-5b34-4410-a33f-e7e4fc4e6597",
   "metadata": {},
   "outputs": [
    {
     "name": "stdout",
     "output_type": "stream",
     "text": [
      "Inverse of matrix:\n",
      " [[-2.   1. ]\n",
      " [ 1.5 -0.5]]\n",
      "Dot product: 11\n"
     ]
    }
   ],
   "source": [
    "matrix = np.array([[1, 2], [3, 4]])\n",
    "inverse = np.linalg.inv(matrix)\n",
    "print(\"Inverse of matrix:\\n\", inverse)\n",
    "\n",
    "dot_product = np.dot([1, 2], [3, 4])\n",
    "print(\"Dot product:\", dot_product)  # 1"
   ]
  },
  {
   "cell_type": "markdown",
   "id": "54b49099-3b90-4126-b853-09d5e2162616",
   "metadata": {},
   "source": [
    "# 6. RANDOM MODULE"
   ]
  },
  {
   "cell_type": "markdown",
   "id": "57222d30-b3e3-41a5-b4ac-93bd67a759b4",
   "metadata": {},
   "source": [
    "## Random Number Generation"
   ]
  },
  {
   "cell_type": "code",
   "execution_count": 91,
   "id": "5c59bb46-7a37-4daf-8f19-2e1b4188f7ec",
   "metadata": {},
   "outputs": [
    {
     "name": "stdout",
     "output_type": "stream",
     "text": [
      "Random array: [0.52553484 0.68731192 0.09687173]\n",
      "Random integers: [3 1 7]\n"
     ]
    }
   ],
   "source": [
    "random_array = np.random.rand(3)\n",
    "print(\"Random array:\", random_array)\n",
    "\n",
    "random_integers = np.random.randint(1, 10, size=3)\n",
    "print(\"Random integers:\", random_integers)\n"
   ]
  },
  {
   "cell_type": "markdown",
   "id": "16b8aef4-b18d-41d0-9c1b-65820aa72105",
   "metadata": {},
   "source": [
    "### The above is how to get random numbers and how to generate integers of any size one may want"
   ]
  },
  {
   "cell_type": "markdown",
   "id": "7e8725a1-1540-4f37-be26-0ac131e1fe1f",
   "metadata": {},
   "source": [
    "## Reproducibility"
   ]
  },
  {
   "cell_type": "code",
   "execution_count": 97,
   "id": "0075f63b-e88c-4ff1-adee-c123c332e90b",
   "metadata": {},
   "outputs": [
    {
     "name": "stdout",
     "output_type": "stream",
     "text": [
      "Seeded random array: [0.37454012 0.95071431 0.73199394]\n"
     ]
    }
   ],
   "source": [
    "np.random.seed(42)\n",
    "print(\"Seeded random array:\", np.random.rand(3))"
   ]
  },
  {
   "cell_type": "code",
   "execution_count": 101,
   "id": "c19b91c2-101c-47c3-9fed-dd73b32c4e9b",
   "metadata": {},
   "outputs": [
    {
     "name": "stdout",
     "output_type": "stream",
     "text": [
      "Seeded random array: [0.37454012 0.95071431 0.73199394]\n"
     ]
    }
   ],
   "source": [
    "np.random.seed(42)\n",
    "print(\"Seeded random array:\", np.random.rand(3))"
   ]
  },
  {
   "cell_type": "markdown",
   "id": "5dd036da-5953-4570-ad9f-13bf8cb1ba02",
   "metadata": {},
   "source": [
    "### This what makes the code reproducible without making the code more random"
   ]
  },
  {
   "cell_type": "markdown",
   "id": "5f725920-f806-4bc6-9a7b-38154c4dc201",
   "metadata": {},
   "source": [
    "# 7. FILE I/O"
   ]
  },
  {
   "cell_type": "markdown",
   "id": "1e616ece-e13c-45ce-ad88-0e00012a744a",
   "metadata": {},
   "source": [
    "## Saving and Loading Arrays"
   ]
  },
  {
   "cell_type": "code",
   "execution_count": 106,
   "id": "40c9db5f-aa8e-4e29-833a-754fba6cd593",
   "metadata": {},
   "outputs": [
    {
     "name": "stdout",
     "output_type": "stream",
     "text": [
      "Loaded array from .npy: [1 2 3 4 5]\n"
     ]
    }
   ],
   "source": [
    "arr_to_save = np.array([1, 2, 3, 4, 5])\n",
    "np.save('array_file.npy', arr_to_save)\n",
    "\n",
    "loaded_arr = np.load('array_file.npy')\n",
    "print(\"Loaded array from .npy:\", loaded_arr)"
   ]
  },
  {
   "cell_type": "code",
   "execution_count": 108,
   "id": "7c2f1b45-1c60-4756-ae9c-f24c14f9e037",
   "metadata": {},
   "outputs": [
    {
     "data": {
      "text/plain": [
       "array([1, 2, 3, 4, 5])"
      ]
     },
     "execution_count": 108,
     "metadata": {},
     "output_type": "execute_result"
    }
   ],
   "source": [
    "loaded_arr"
   ]
  },
  {
   "cell_type": "markdown",
   "id": "b5b60397-d87e-4e57-a3e8-d0a4d431d34a",
   "metadata": {},
   "source": [
    "## Working with Text Files"
   ]
  },
  {
   "cell_type": "code",
   "execution_count": 111,
   "id": "a48ad576-5536-4ffb-ae5b-dfa9bd06c3ce",
   "metadata": {},
   "outputs": [
    {
     "name": "stdout",
     "output_type": "stream",
     "text": [
      "Loaded array from .txt: [1. 2. 3. 4. 5.]\n"
     ]
    }
   ],
   "source": [
    "np.savetxt('array_file.txt', arr_to_save)\n",
    "loaded_txt = np.loadtxt('array_file.txt')\n",
    "print(\"Loaded array from .txt:\", loaded_txt)"
   ]
  },
  {
   "cell_type": "markdown",
   "id": "9fc50036-4150-4d2e-a839-4ee750bc1bb9",
   "metadata": {},
   "source": [
    "# 8. PERFORMANCE (VECTORIZATION)"
   ]
  },
  {
   "cell_type": "code",
   "execution_count": 114,
   "id": "6dd7795a-ceb2-4b57-b8ef-bd2a939ece17",
   "metadata": {},
   "outputs": [],
   "source": [
    "import time"
   ]
  },
  {
   "cell_type": "markdown",
   "id": "0bb09975-4cf8-45c3-9380-de1354873684",
   "metadata": {},
   "source": [
    "### Using loops (slow)"
   ]
  },
  {
   "cell_type": "code",
   "execution_count": 117,
   "id": "e56590cf-b5a0-4000-8709-25871f2778e1",
   "metadata": {},
   "outputs": [
    {
     "name": "stdout",
     "output_type": "stream",
     "text": [
      "List comprehension time: 0.25531578063964844 seconds\n"
     ]
    }
   ],
   "source": [
    "start = time.time()\n",
    "list_comp = [x**2 for x in range(1000000)]\n",
    "end = time.time()\n",
    "print(f\"List comprehension time: {end - start} seconds\")"
   ]
  },
  {
   "cell_type": "markdown",
   "id": "07dfe25e-3866-4d62-8064-3789d1fd8473",
   "metadata": {},
   "source": [
    "#### The above is the time taken to handle the list compressions but it takes much time hence not advisable"
   ]
  },
  {
   "cell_type": "markdown",
   "id": "c54ea4b4-b9a9-4e21-99ef-c8e55fbd954c",
   "metadata": {},
   "source": [
    "### Using NumPy (fast)"
   ]
  },
  {
   "cell_type": "markdown",
   "id": "fc76f609-6d79-44c7-9382-5617cb2a2103",
   "metadata": {},
   "source": [
    "### This uses little time compared to list compressions or using loops"
   ]
  },
  {
   "cell_type": "code",
   "execution_count": 120,
   "id": "c802c93a-4a43-40ce-918a-9e65f301a7f6",
   "metadata": {},
   "outputs": [
    {
     "name": "stdout",
     "output_type": "stream",
     "text": [
      "NumPy vectorized time: 0.0049855709075927734 seconds\n"
     ]
    }
   ],
   "source": [
    "start = time.time()\n",
    "numpy_comp = np.arange(1000000)**2\n",
    "end = time.time()\n",
    "print(f\"NumPy vectorized time: {end - start} seconds\")"
   ]
  },
  {
   "cell_type": "code",
   "execution_count": null,
   "id": "44aa12f2-3fe9-45aa-ae98-861ad6920237",
   "metadata": {},
   "outputs": [],
   "source": []
  }
 ],
 "metadata": {
  "kernelspec": {
   "display_name": "Python 3 (ipykernel)",
   "language": "python",
   "name": "python3"
  },
  "language_info": {
   "codemirror_mode": {
    "name": "ipython",
    "version": 3
   },
   "file_extension": ".py",
   "mimetype": "text/x-python",
   "name": "python",
   "nbconvert_exporter": "python",
   "pygments_lexer": "ipython3",
   "version": "3.12.4"
  }
 },
 "nbformat": 4,
 "nbformat_minor": 5
}
